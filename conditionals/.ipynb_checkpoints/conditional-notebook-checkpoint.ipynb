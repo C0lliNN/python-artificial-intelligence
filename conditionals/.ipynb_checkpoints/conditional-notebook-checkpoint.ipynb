{
 "cells": [
  {
   "cell_type": "code",
   "execution_count": 4,
   "id": "f4d9dab3",
   "metadata": {},
   "outputs": [],
   "source": [
    "some_condition1 = True"
   ]
  },
  {
   "cell_type": "code",
   "execution_count": 5,
   "id": "9acfc542",
   "metadata": {},
   "outputs": [
    {
     "name": "stdout",
     "output_type": "stream",
     "text": [
      "Hello World!\n"
     ]
    }
   ],
   "source": [
    "if some_condition1:\n",
    "    print('Hello World!')\n",
    "else:\n",
    "    print('Hello World! 2')"
   ]
  },
  {
   "cell_type": "code",
   "execution_count": 8,
   "id": "cef8ac18",
   "metadata": {},
   "outputs": [],
   "source": [
    "some_condition1 = False"
   ]
  },
  {
   "cell_type": "code",
   "execution_count": 9,
   "id": "c10d18a3",
   "metadata": {},
   "outputs": [
    {
     "name": "stdout",
     "output_type": "stream",
     "text": [
      "Hello World! 2\n"
     ]
    }
   ],
   "source": [
    "if some_condition1:\n",
    "    print('Hello World!')\n",
    "else:\n",
    "    print('Hello World! 2')"
   ]
  },
  {
   "cell_type": "code",
   "execution_count": 10,
   "id": "8de2ff9a",
   "metadata": {},
   "outputs": [],
   "source": [
    "age = 21"
   ]
  },
  {
   "cell_type": "code",
   "execution_count": 12,
   "id": "1a9b0eaa",
   "metadata": {},
   "outputs": [
    {
     "name": "stdout",
     "output_type": "stream",
     "text": [
      "You can vote\n"
     ]
    }
   ],
   "source": [
    "if age < 16:\n",
    "    print('You cannot vote')\n",
    "elif age <= 65:\n",
    "    print('You can vote')\n",
    "else:\n",
    "    print('You can vote')"
   ]
  },
  {
   "cell_type": "code",
   "execution_count": 17,
   "id": "98d8b8fd",
   "metadata": {},
   "outputs": [
    {
     "name": "stdout",
     "output_type": "stream",
     "text": [
      "Enter your score: 9.9\n"
     ]
    }
   ],
   "source": [
    "score = float(input('Enter your score: '))"
   ]
  },
  {
   "cell_type": "code",
   "execution_count": 18,
   "id": "834b962b",
   "metadata": {},
   "outputs": [
    {
     "name": "stdout",
     "output_type": "stream",
     "text": [
      "You killed it.\n"
     ]
    }
   ],
   "source": [
    "if score < 6:\n",
    "    print('You are not approved.')\n",
    "elif score <= 8:\n",
    "    print('You approved.')\n",
    "else:\n",
    "    print('You killed it.')"
   ]
  },
  {
   "cell_type": "code",
   "execution_count": 21,
   "id": "a6d7321b",
   "metadata": {},
   "outputs": [
    {
     "name": "stdout",
     "output_type": "stream",
     "text": [
      "This is a Placeholder that I can include numbers like 9.44\n"
     ]
    }
   ],
   "source": [
    "print('This is a %s that I can include numbers like %r' %('Placeholder', 9.44))"
   ]
  },
  {
   "cell_type": "code",
   "execution_count": null,
   "id": "1a9baa64",
   "metadata": {},
   "outputs": [],
   "source": []
  }
 ],
 "metadata": {
  "kernelspec": {
   "display_name": "Python 3 (ipykernel)",
   "language": "python",
   "name": "python3"
  },
  "language_info": {
   "codemirror_mode": {
    "name": "ipython",
    "version": 3
   },
   "file_extension": ".py",
   "mimetype": "text/x-python",
   "name": "python",
   "nbconvert_exporter": "python",
   "pygments_lexer": "ipython3",
   "version": "3.9.12"
  }
 },
 "nbformat": 4,
 "nbformat_minor": 5
}
