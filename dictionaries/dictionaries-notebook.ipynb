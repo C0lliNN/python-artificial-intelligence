{
 "cells": [
  {
   "cell_type": "markdown",
   "id": "0a75d934",
   "metadata": {},
   "source": [
    "## Declaration"
   ]
  },
  {
   "cell_type": "code",
   "execution_count": 7,
   "id": "5cc0b4d0",
   "metadata": {},
   "outputs": [],
   "source": [
    "my_dic1 = {'name': 'Raphael', 'age': 21, 'salary': 400000}"
   ]
  },
  {
   "cell_type": "code",
   "execution_count": 4,
   "id": "67b23cad",
   "metadata": {},
   "outputs": [
    {
     "data": {
      "text/plain": [
       "{'name': 'Raphael', 'age': 21, 'city': 'Campos'}"
      ]
     },
     "execution_count": 4,
     "metadata": {},
     "output_type": "execute_result"
    }
   ],
   "source": [
    "my_dic1"
   ]
  },
  {
   "cell_type": "code",
   "execution_count": 5,
   "id": "fdc72b6e",
   "metadata": {},
   "outputs": [
    {
     "data": {
      "text/plain": [
       "'Raphael'"
      ]
     },
     "execution_count": 5,
     "metadata": {},
     "output_type": "execute_result"
    }
   ],
   "source": [
    "my_dic1['name']"
   ]
  },
  {
   "cell_type": "code",
   "execution_count": 6,
   "id": "73451ee9",
   "metadata": {},
   "outputs": [
    {
     "data": {
      "text/plain": [
       "21"
      ]
     },
     "execution_count": 6,
     "metadata": {},
     "output_type": "execute_result"
    }
   ],
   "source": [
    "my_dic1['age']"
   ]
  },
  {
   "cell_type": "code",
   "execution_count": 8,
   "id": "1d707168",
   "metadata": {},
   "outputs": [
    {
     "data": {
      "text/plain": [
       "400000"
      ]
     },
     "execution_count": 8,
     "metadata": {},
     "output_type": "execute_result"
    }
   ],
   "source": [
    "my_dic1['salary']"
   ]
  },
  {
   "cell_type": "markdown",
   "id": "8917f850",
   "metadata": {},
   "source": [
    "## Adding Keys"
   ]
  },
  {
   "cell_type": "code",
   "execution_count": 9,
   "id": "b7d649a1",
   "metadata": {},
   "outputs": [],
   "source": [
    "my_dic1['city'] = 'Campos dos Goytacazes'"
   ]
  },
  {
   "cell_type": "code",
   "execution_count": 10,
   "id": "3ea4989e",
   "metadata": {},
   "outputs": [
    {
     "data": {
      "text/plain": [
       "{'name': 'Raphael',\n",
       " 'age': 21,\n",
       " 'salary': 400000,\n",
       " 'city': 'Campos dos Goytacazes'}"
      ]
     },
     "execution_count": 10,
     "metadata": {},
     "output_type": "execute_result"
    }
   ],
   "source": [
    "my_dic1"
   ]
  },
  {
   "cell_type": "markdown",
   "id": "4d7eaa42",
   "metadata": {},
   "source": [
    "## Clearing Dictionary"
   ]
  },
  {
   "cell_type": "code",
   "execution_count": 11,
   "id": "1ae8bfad",
   "metadata": {},
   "outputs": [],
   "source": [
    "my_dic1.clear()"
   ]
  },
  {
   "cell_type": "code",
   "execution_count": 12,
   "id": "e0ea66b2",
   "metadata": {},
   "outputs": [
    {
     "data": {
      "text/plain": [
       "{}"
      ]
     },
     "execution_count": 12,
     "metadata": {},
     "output_type": "execute_result"
    }
   ],
   "source": [
    "my_dic1"
   ]
  },
  {
   "cell_type": "markdown",
   "id": "c5e3dfe9",
   "metadata": {},
   "source": [
    "## Deleting Keys"
   ]
  },
  {
   "cell_type": "code",
   "execution_count": 13,
   "id": "b0df6457",
   "metadata": {},
   "outputs": [],
   "source": [
    "my_dic2 = {'Sao Paulo': 40000, 'Rio de Janeiro': 50000, 'Belo Horizonte': 65000}"
   ]
  },
  {
   "cell_type": "code",
   "execution_count": 14,
   "id": "53eb3021",
   "metadata": {},
   "outputs": [
    {
     "data": {
      "text/plain": [
       "{'Sao Paulo': 40000, 'Rio de Janeiro': 50000, 'Belo Horizonte': 65000}"
      ]
     },
     "execution_count": 14,
     "metadata": {},
     "output_type": "execute_result"
    }
   ],
   "source": [
    "my_dic2"
   ]
  },
  {
   "cell_type": "code",
   "execution_count": 15,
   "id": "3ccb3891",
   "metadata": {},
   "outputs": [],
   "source": [
    "del my_dic2['Belo Horizonte']"
   ]
  },
  {
   "cell_type": "markdown",
   "id": "b45737ee",
   "metadata": {},
   "source": [
    "my_dic2"
   ]
  },
  {
   "cell_type": "markdown",
   "id": "abd74e0e",
   "metadata": {},
   "source": [
    "## Built-in"
   ]
  },
  {
   "cell_type": "code",
   "execution_count": 17,
   "id": "3a1f5890",
   "metadata": {},
   "outputs": [
    {
     "data": {
      "text/plain": [
       "2"
      ]
     },
     "execution_count": 17,
     "metadata": {},
     "output_type": "execute_result"
    }
   ],
   "source": [
    "len(my_dic2)"
   ]
  },
  {
   "cell_type": "code",
   "execution_count": 18,
   "id": "ffc37936",
   "metadata": {},
   "outputs": [
    {
     "data": {
      "text/plain": [
       "dict_keys(['Sao Paulo', 'Rio de Janeiro'])"
      ]
     },
     "execution_count": 18,
     "metadata": {},
     "output_type": "execute_result"
    }
   ],
   "source": [
    "my_dic2.keys()"
   ]
  },
  {
   "cell_type": "code",
   "execution_count": 19,
   "id": "dfd9094b",
   "metadata": {},
   "outputs": [
    {
     "data": {
      "text/plain": [
       "dict_values([40000, 50000])"
      ]
     },
     "execution_count": 19,
     "metadata": {},
     "output_type": "execute_result"
    }
   ],
   "source": [
    "my_dic2.values()"
   ]
  },
  {
   "cell_type": "code",
   "execution_count": 20,
   "id": "afcb092f",
   "metadata": {},
   "outputs": [
    {
     "data": {
      "text/plain": [
       "dict_items([('Sao Paulo', 40000), ('Rio de Janeiro', 50000)])"
      ]
     },
     "execution_count": 20,
     "metadata": {},
     "output_type": "execute_result"
    }
   ],
   "source": [
    "my_dic2.items()"
   ]
  },
  {
   "cell_type": "code",
   "execution_count": 21,
   "id": "8c556849",
   "metadata": {},
   "outputs": [],
   "source": [
    "my_dic1.update(my_dic2)"
   ]
  },
  {
   "cell_type": "code",
   "execution_count": 22,
   "id": "1657bf9d",
   "metadata": {},
   "outputs": [
    {
     "data": {
      "text/plain": [
       "{'Sao Paulo': 40000, 'Rio de Janeiro': 50000}"
      ]
     },
     "execution_count": 22,
     "metadata": {},
     "output_type": "execute_result"
    }
   ],
   "source": [
    "my_dic1"
   ]
  },
  {
   "cell_type": "markdown",
   "id": "7f051d29",
   "metadata": {},
   "source": [
    "## Nested Dictionaries"
   ]
  },
  {
   "cell_type": "code",
   "execution_count": 24,
   "id": "e529429d",
   "metadata": {},
   "outputs": [],
   "source": [
    "my_dic3 = {\n",
    "    'name': 'Raphael',\n",
    "    'age': 20,\n",
    "    'job': {\n",
    "        'title': 'Software Engineer',\n",
    "        'company': 'Wex'\n",
    "    }\n",
    "}"
   ]
  },
  {
   "cell_type": "code",
   "execution_count": 25,
   "id": "d6fabbc8",
   "metadata": {},
   "outputs": [
    {
     "data": {
      "text/plain": [
       "{'name': 'Raphael',\n",
       " 'age': 20,\n",
       " 'job': {'title': 'Software Engineer', 'company': 'Wex'}}"
      ]
     },
     "execution_count": 25,
     "metadata": {},
     "output_type": "execute_result"
    }
   ],
   "source": [
    "my_dic3"
   ]
  },
  {
   "cell_type": "code",
   "execution_count": 26,
   "id": "b5f75032",
   "metadata": {},
   "outputs": [
    {
     "data": {
      "text/plain": [
       "'Software Engineer'"
      ]
     },
     "execution_count": 26,
     "metadata": {},
     "output_type": "execute_result"
    }
   ],
   "source": [
    "my_dic3['job']['title']"
   ]
  }
 ],
 "metadata": {
  "kernelspec": {
   "display_name": "Python 3 (ipykernel)",
   "language": "python",
   "name": "python3"
  },
  "language_info": {
   "codemirror_mode": {
    "name": "ipython",
    "version": 3
   },
   "file_extension": ".py",
   "mimetype": "text/x-python",
   "name": "python",
   "nbconvert_exporter": "python",
   "pygments_lexer": "ipython3",
   "version": "3.9.12"
  }
 },
 "nbformat": 4,
 "nbformat_minor": 5
}
