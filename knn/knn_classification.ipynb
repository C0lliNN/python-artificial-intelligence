{
  "cells": [
    {
      "cell_type": "markdown",
      "metadata": {
        "id": "3uRZXrFk9-9u"
      },
      "source": [
        " # Classificação KNN"
      ]
    },
    {
      "cell_type": "markdown",
      "metadata": {
        "id": "arsTN8oo9-9x"
      },
      "source": [
        "O KNN é um dos algoritmos mais simples para Machine Learning, sendo um algoritmo do tipo \"lazy\", ou seja, nenhuma computação é realizada no dataset até que um novo ponto de dado seja alvo de teste."
      ]
    },
    {
      "cell_type": "markdown",
      "metadata": {
        "id": "P7c29izk9-9y"
      },
      "source": [
        "Classificação KNN em Python - Definindo Um Problema Para Classificação Multiclasse"
      ]
    },
    {
      "cell_type": "markdown",
      "metadata": {
        "id": "M9VzAkTO9-9y"
      },
      "source": [
        "Faremos previsões de dígitos escritos à mão no dataset mnist. Esse é um exemplo de classificação multiclasse, pois nosso modelo terá que prever uma entre 10 saídas possíveis para cada registro (dígitos de 0 a 10)."
      ]
    },
    {
      "cell_type": "markdown",
      "metadata": {
        "id": "auMK6OB19-9z"
      },
      "source": [
        "http://scikit-learn.org/stable/modules/generated/sklearn.datasets.load_digits.html"
      ]
    },
    {
      "cell_type": "markdown",
      "metadata": {
        "id": "nbXzJrbXBR5R"
      },
      "source": [
        "## Importando Bibliotecas"
      ]
    },
    {
      "cell_type": "code",
      "execution_count": 1,
      "metadata": {
        "id": "36YD4jp69-93"
      },
      "outputs": [],
      "source": [
        "# Carrega os pacotes\n",
        "import numpy as np\n",
        "from sklearn import datasets\n",
        "from sklearn.metrics import confusion_matrix, plot_confusion_matrix\n",
        "from sklearn.model_selection import train_test_split\n",
        "from sklearn.neighbors import KNeighborsClassifier\n",
        "from sklearn.metrics import classification_report\n",
        "import matplotlib.pyplot as plt\n",
        "import warnings\n",
        "warnings.filterwarnings('ignore')"
      ]
    },
    {
      "cell_type": "markdown",
      "metadata": {
        "id": "k47pfzhs9-93"
      },
      "source": [
        "## Carregando e Explorando o Dataset"
      ]
    },
    {
      "cell_type": "code",
      "execution_count": 2,
      "metadata": {
        "id": "uHVqshH99-94"
      },
      "outputs": [],
      "source": [
        "# Carrega o dataset\n",
        "digitos = datasets.load_digits()"
      ]
    },
    {
      "cell_type": "code",
      "execution_count": 3,
      "metadata": {
        "id": "rM0lQ0dX9-94"
      },
      "outputs": [
        {
          "data": {
            "text/plain": [
              "{'data': array([[ 0.,  0.,  5., ...,  0.,  0.,  0.],\n",
              "        [ 0.,  0.,  0., ..., 10.,  0.,  0.],\n",
              "        [ 0.,  0.,  0., ..., 16.,  9.,  0.],\n",
              "        ...,\n",
              "        [ 0.,  0.,  1., ...,  6.,  0.,  0.],\n",
              "        [ 0.,  0.,  2., ..., 12.,  0.,  0.],\n",
              "        [ 0.,  0., 10., ..., 12.,  1.,  0.]]),\n",
              " 'target': array([0, 1, 2, ..., 8, 9, 8]),\n",
              " 'frame': None,\n",
              " 'feature_names': ['pixel_0_0',\n",
              "  'pixel_0_1',\n",
              "  'pixel_0_2',\n",
              "  'pixel_0_3',\n",
              "  'pixel_0_4',\n",
              "  'pixel_0_5',\n",
              "  'pixel_0_6',\n",
              "  'pixel_0_7',\n",
              "  'pixel_1_0',\n",
              "  'pixel_1_1',\n",
              "  'pixel_1_2',\n",
              "  'pixel_1_3',\n",
              "  'pixel_1_4',\n",
              "  'pixel_1_5',\n",
              "  'pixel_1_6',\n",
              "  'pixel_1_7',\n",
              "  'pixel_2_0',\n",
              "  'pixel_2_1',\n",
              "  'pixel_2_2',\n",
              "  'pixel_2_3',\n",
              "  'pixel_2_4',\n",
              "  'pixel_2_5',\n",
              "  'pixel_2_6',\n",
              "  'pixel_2_7',\n",
              "  'pixel_3_0',\n",
              "  'pixel_3_1',\n",
              "  'pixel_3_2',\n",
              "  'pixel_3_3',\n",
              "  'pixel_3_4',\n",
              "  'pixel_3_5',\n",
              "  'pixel_3_6',\n",
              "  'pixel_3_7',\n",
              "  'pixel_4_0',\n",
              "  'pixel_4_1',\n",
              "  'pixel_4_2',\n",
              "  'pixel_4_3',\n",
              "  'pixel_4_4',\n",
              "  'pixel_4_5',\n",
              "  'pixel_4_6',\n",
              "  'pixel_4_7',\n",
              "  'pixel_5_0',\n",
              "  'pixel_5_1',\n",
              "  'pixel_5_2',\n",
              "  'pixel_5_3',\n",
              "  'pixel_5_4',\n",
              "  'pixel_5_5',\n",
              "  'pixel_5_6',\n",
              "  'pixel_5_7',\n",
              "  'pixel_6_0',\n",
              "  'pixel_6_1',\n",
              "  'pixel_6_2',\n",
              "  'pixel_6_3',\n",
              "  'pixel_6_4',\n",
              "  'pixel_6_5',\n",
              "  'pixel_6_6',\n",
              "  'pixel_6_7',\n",
              "  'pixel_7_0',\n",
              "  'pixel_7_1',\n",
              "  'pixel_7_2',\n",
              "  'pixel_7_3',\n",
              "  'pixel_7_4',\n",
              "  'pixel_7_5',\n",
              "  'pixel_7_6',\n",
              "  'pixel_7_7'],\n",
              " 'target_names': array([0, 1, 2, 3, 4, 5, 6, 7, 8, 9]),\n",
              " 'images': array([[[ 0.,  0.,  5., ...,  1.,  0.,  0.],\n",
              "         [ 0.,  0., 13., ..., 15.,  5.,  0.],\n",
              "         [ 0.,  3., 15., ..., 11.,  8.,  0.],\n",
              "         ...,\n",
              "         [ 0.,  4., 11., ..., 12.,  7.,  0.],\n",
              "         [ 0.,  2., 14., ..., 12.,  0.,  0.],\n",
              "         [ 0.,  0.,  6., ...,  0.,  0.,  0.]],\n",
              " \n",
              "        [[ 0.,  0.,  0., ...,  5.,  0.,  0.],\n",
              "         [ 0.,  0.,  0., ...,  9.,  0.,  0.],\n",
              "         [ 0.,  0.,  3., ...,  6.,  0.,  0.],\n",
              "         ...,\n",
              "         [ 0.,  0.,  1., ...,  6.,  0.,  0.],\n",
              "         [ 0.,  0.,  1., ...,  6.,  0.,  0.],\n",
              "         [ 0.,  0.,  0., ..., 10.,  0.,  0.]],\n",
              " \n",
              "        [[ 0.,  0.,  0., ..., 12.,  0.,  0.],\n",
              "         [ 0.,  0.,  3., ..., 14.,  0.,  0.],\n",
              "         [ 0.,  0.,  8., ..., 16.,  0.,  0.],\n",
              "         ...,\n",
              "         [ 0.,  9., 16., ...,  0.,  0.,  0.],\n",
              "         [ 0.,  3., 13., ..., 11.,  5.,  0.],\n",
              "         [ 0.,  0.,  0., ..., 16.,  9.,  0.]],\n",
              " \n",
              "        ...,\n",
              " \n",
              "        [[ 0.,  0.,  1., ...,  1.,  0.,  0.],\n",
              "         [ 0.,  0., 13., ...,  2.,  1.,  0.],\n",
              "         [ 0.,  0., 16., ..., 16.,  5.,  0.],\n",
              "         ...,\n",
              "         [ 0.,  0., 16., ..., 15.,  0.,  0.],\n",
              "         [ 0.,  0., 15., ..., 16.,  0.,  0.],\n",
              "         [ 0.,  0.,  2., ...,  6.,  0.,  0.]],\n",
              " \n",
              "        [[ 0.,  0.,  2., ...,  0.,  0.,  0.],\n",
              "         [ 0.,  0., 14., ..., 15.,  1.,  0.],\n",
              "         [ 0.,  4., 16., ..., 16.,  7.,  0.],\n",
              "         ...,\n",
              "         [ 0.,  0.,  0., ..., 16.,  2.,  0.],\n",
              "         [ 0.,  0.,  4., ..., 16.,  2.,  0.],\n",
              "         [ 0.,  0.,  5., ..., 12.,  0.,  0.]],\n",
              " \n",
              "        [[ 0.,  0., 10., ...,  1.,  0.,  0.],\n",
              "         [ 0.,  2., 16., ...,  1.,  0.,  0.],\n",
              "         [ 0.,  0., 15., ..., 15.,  0.,  0.],\n",
              "         ...,\n",
              "         [ 0.,  4., 16., ..., 16.,  6.,  0.],\n",
              "         [ 0.,  8., 16., ..., 16.,  8.,  0.],\n",
              "         [ 0.,  1.,  8., ..., 12.,  1.,  0.]]]),\n",
              " 'DESCR': \".. _digits_dataset:\\n\\nOptical recognition of handwritten digits dataset\\n--------------------------------------------------\\n\\n**Data Set Characteristics:**\\n\\n    :Number of Instances: 1797\\n    :Number of Attributes: 64\\n    :Attribute Information: 8x8 image of integer pixels in the range 0..16.\\n    :Missing Attribute Values: None\\n    :Creator: E. Alpaydin (alpaydin '@' boun.edu.tr)\\n    :Date: July; 1998\\n\\nThis is a copy of the test set of the UCI ML hand-written digits datasets\\nhttps://archive.ics.uci.edu/ml/datasets/Optical+Recognition+of+Handwritten+Digits\\n\\nThe data set contains images of hand-written digits: 10 classes where\\neach class refers to a digit.\\n\\nPreprocessing programs made available by NIST were used to extract\\nnormalized bitmaps of handwritten digits from a preprinted form. From a\\ntotal of 43 people, 30 contributed to the training set and different 13\\nto the test set. 32x32 bitmaps are divided into nonoverlapping blocks of\\n4x4 and the number of on pixels are counted in each block. This generates\\nan input matrix of 8x8 where each element is an integer in the range\\n0..16. This reduces dimensionality and gives invariance to small\\ndistortions.\\n\\nFor info on NIST preprocessing routines, see M. D. Garris, J. L. Blue, G.\\nT. Candela, D. L. Dimmick, J. Geist, P. J. Grother, S. A. Janet, and C.\\nL. Wilson, NIST Form-Based Handprint Recognition System, NISTIR 5469,\\n1994.\\n\\n.. topic:: References\\n\\n  - C. Kaynak (1995) Methods of Combining Multiple Classifiers and Their\\n    Applications to Handwritten Digit Recognition, MSc Thesis, Institute of\\n    Graduate Studies in Science and Engineering, Bogazici University.\\n  - E. Alpaydin, C. Kaynak (1998) Cascading Classifiers, Kybernetika.\\n  - Ken Tang and Ponnuthurai N. Suganthan and Xi Yao and A. Kai Qin.\\n    Linear dimensionalityreduction using relevance weighted LDA. School of\\n    Electrical and Electronic Engineering Nanyang Technological University.\\n    2005.\\n  - Claudio Gentile. A New Approximate Maximal Margin Classification\\n    Algorithm. NIPS. 2000.\\n\"}"
            ]
          },
          "execution_count": 3,
          "metadata": {},
          "output_type": "execute_result"
        }
      ],
      "source": [
        "digitos"
      ]
    },
    {
      "cell_type": "code",
      "execution_count": 4,
      "metadata": {
        "id": "eiubkX2l9-95"
      },
      "outputs": [
        {
          "data": {
            "image/png": "[encoded data removed]",
            "text/plain": [
              "<Figure size 432x288 with 4 Axes>"
            ]
          },
          "metadata": {
            "needs_background": "light"
          },
          "output_type": "display_data"
        }
      ],
      "source": [
        "# Visualizando algumas imagens e labels\n",
        "images_e_labels = list(zip(digitos.images, digitos.target))\n",
        "for index, (image, label) in enumerate(images_e_labels[:4]):\n",
        "    plt.subplot(2, 4, index + 1)\n",
        "    plt.axis('off')\n",
        "    plt.imshow(image, cmap = plt.cm.gray_r, interpolation='nearest')\n",
        "    plt.title('Label: %i' % label)"
      ]
    },
    {
      "cell_type": "code",
      "execution_count": 5,
      "metadata": {
        "id": "B_5DP3-O9-95"
      },
      "outputs": [],
      "source": [
        "# Gera X e Y\n",
        "X = digitos.data\n",
        "Y = digitos.target"
      ]
    },
    {
      "cell_type": "code",
      "execution_count": 6,
      "metadata": {
        "id": "xFFIcWAr9-96"
      },
      "outputs": [
        {
          "name": "stdout",
          "output_type": "stream",
          "text": [
            "(1797, 64) (1797,)\n"
          ]
        }
      ],
      "source": [
        "# Formato de X e Y\n",
        "print(X.shape, Y.shape)"
      ]
    },
    {
      "cell_type": "code",
      "execution_count": 7,
      "metadata": {
        "id": "E4V1xdVpOvHE"
      },
      "outputs": [
        {
          "data": {
            "image/png": "[encoded data removed]",
            "text/plain": [
              "<Figure size 432x432 with 100 Axes>"
            ]
          },
          "metadata": {
            "needs_background": "light"
          },
          "output_type": "display_data"
        }
      ],
      "source": [
        "fig, axs = plt.subplots(nrows=10, ncols=10, figsize=(6, 6))\n",
        "for idx, ax in enumerate(axs.ravel()):\n",
        "    ax.imshow(X[idx].reshape((8, 8)), cmap=plt.cm.binary)\n",
        "    ax.axis(\"off\")\n",
        "_ = fig.suptitle(\"A selection from the 64-dimensional digits dataset\", fontsize=16)"
      ]
    },
    {
      "cell_type": "markdown",
      "metadata": {
        "id": "Mj85bGB89-96"
      },
      "source": [
        "## Pré-Processamento e Normalização"
      ]
    },
    {
      "cell_type": "code",
      "execution_count": 8,
      "metadata": {
        "id": "EoE3_V_Y9-96"
      },
      "outputs": [],
      "source": [
        "# Divisão em dados de treino e de teste\n",
        "X_treino, testeData, Y_treino, testeLabels = train_test_split(X, Y, test_size = 0.30, random_state = 101)"
      ]
    },
    {
      "cell_type": "code",
      "execution_count": 9,
      "metadata": {
        "id": "dlKcpfaQ9-96"
      },
      "outputs": [],
      "source": [
        "# Divisão dos dados de treino em dados de treino e dados de validação\n",
        "treinoData, validData, treinoLabels, validLabels = train_test_split(X_treino, \n",
        "                                                                    Y_treino, \n",
        "                                                                    test_size = 0.1, \n",
        "                                                                    random_state = 84)"
      ]
    },
    {
      "cell_type": "code",
      "execution_count": 10,
      "metadata": {
        "id": "FNavwuN_9-97"
      },
      "outputs": [
        {
          "name": "stdout",
          "output_type": "stream",
          "text": [
            "Exemplos de Treino: 1131\n",
            "Exemplos de Validação: 126\n",
            "Exemplos de Teste: 540\n"
          ]
        }
      ],
      "source": [
        "# Imprimindo o número de exemplos (observações) em cada dataset\n",
        "print(\"Exemplos de Treino: {}\".format(len(treinoLabels)))\n",
        "print(\"Exemplos de Validação: {}\".format(len(validLabels)))\n",
        "print(\"Exemplos de Teste: {}\".format(len(testeLabels)))"
      ]
    },
    {
      "cell_type": "code",
      "execution_count": 11,
      "metadata": {
        "id": "zW3ySeRj9-97"
      },
      "outputs": [],
      "source": [
        "# Normalização dos dados pela Média\n",
        "\n",
        "# Cálculo da média do dataset de treino\n",
        "X_norm = np.mean(X, axis = 0)\n",
        "\n",
        "# Normalização dos dados de treino e de teste\n",
        "X_treino_norm = treinoData - X_norm\n",
        "X_valid_norm = validData - X_norm\n",
        "X_teste_norm = testeData - X_norm"
      ]
    },
    {
      "cell_type": "code",
      "execution_count": 12,
      "metadata": {
        "id": "bdT4fqgC9-97"
      },
      "outputs": [
        {
          "name": "stdout",
          "output_type": "stream",
          "text": [
            "(1131, 64) (126, 64) (540, 64)\n"
          ]
        }
      ],
      "source": [
        "# Shape dos datasets\n",
        "print(X_treino_norm.shape, X_valid_norm.shape, X_teste_norm.shape)"
      ]
    },
    {
      "cell_type": "code",
      "execution_count": 13,
      "metadata": {
        "id": "zqg9vWH8hDAd"
      },
      "outputs": [
        {
          "name": "stdout",
          "output_type": "stream",
          "text": [
            "[[ 0.  0.  5. ...  0.  0.  0.]\n",
            " [ 0.  0. 14. ...  3.  0.  0.]\n",
            " [ 0.  0.  0. ... 16.  5.  0.]\n",
            " ...\n",
            " [ 0.  0.  4. ...  8.  0.  0.]\n",
            " [ 0.  0.  5. ... 16. 12.  1.]\n",
            " [ 0.  0.  0. ... 12.  0.  0.]]\n"
          ]
        }
      ],
      "source": [
        "print(X_treino)"
      ]
    },
    {
      "cell_type": "code",
      "execution_count": null,
      "metadata": {
        "id": "t6jnq3CohL5t"
      },
      "outputs": [],
      "source": [
        "print(X_treino_norm)"
      ]
    },
    {
      "cell_type": "markdown",
      "metadata": {
        "id": "7eJ2Ie2z9-98"
      },
      "source": [
        "## Testando o Melhor Valor de K"
      ]
    },
    {
      "cell_type": "code",
      "execution_count": 14,
      "metadata": {
        "id": "rLKixBs49-98"
      },
      "outputs": [],
      "source": [
        "# Range de valores de k que iremos testar\n",
        "kVals = range(1, 30, 2)"
      ]
    },
    {
      "cell_type": "code",
      "execution_count": 15,
      "metadata": {
        "id": "gjgffhVV9-98"
      },
      "outputs": [],
      "source": [
        "# Lista vazia para receber as acurácias\n",
        "acuracias = []"
      ]
    },
    {
      "cell_type": "code",
      "execution_count": 16,
      "metadata": {
        "id": "VI9lQ--d9-98"
      },
      "outputs": [
        {
          "name": "stdout",
          "output_type": "stream",
          "text": [
            "Com valor de k = 1, a acurácia é = 99.21%\n",
            "Com valor de k = 3, a acurácia é = 100.00%\n",
            "Com valor de k = 5, a acurácia é = 100.00%\n",
            "Com valor de k = 7, a acurácia é = 99.21%\n",
            "Com valor de k = 9, a acurácia é = 98.41%\n",
            "Com valor de k = 11, a acurácia é = 98.41%\n",
            "Com valor de k = 13, a acurácia é = 97.62%\n",
            "Com valor de k = 15, a acurácia é = 97.62%\n",
            "Com valor de k = 17, a acurácia é = 97.62%\n",
            "Com valor de k = 19, a acurácia é = 97.62%\n",
            "Com valor de k = 21, a acurácia é = 97.62%\n",
            "Com valor de k = 23, a acurácia é = 97.62%\n",
            "Com valor de k = 25, a acurácia é = 96.83%\n",
            "Com valor de k = 27, a acurácia é = 96.83%\n",
            "Com valor de k = 29, a acurácia é = 96.83%\n"
          ]
        }
      ],
      "source": [
        "# Loop em todos os valores de k para testar cada um deles\n",
        "for k in kVals:\n",
        "    \n",
        "    # Treinando o modelo KNN com cada valor de k\n",
        "    modeloKNN = KNeighborsClassifier(n_neighbors = k)\n",
        "    modeloKNN.fit(treinoData, treinoLabels)\n",
        "          \n",
        "    # Avaliando o modelo e atualizando a lista de acurácias\n",
        "    score = modeloKNN.score(validData, validLabels)\n",
        "    print(\"Com valor de k = %d, a acurácia é = %.2f%%\" % (k, score * 100))\n",
        "    acuracias.append(score)"
      ]
    },
    {
      "cell_type": "code",
      "execution_count": 17,
      "metadata": {
        "id": "LitrRS-o9-99"
      },
      "outputs": [
        {
          "name": "stdout",
          "output_type": "stream",
          "text": [
            "O valor de k = 3 alcançou a mais alta acurácia de 100.00% nos dados de validação!\n"
          ]
        }
      ],
      "source": [
        "# Obtendo o valor de k que apresentou a maior acurácia\n",
        "i = np.argmax(acuracias)\n",
        "print(\"O valor de k = %d alcançou a mais alta acurácia de %.2f%% nos dados de validação!\" % (kVals[i], \n",
        "                                                                                             acuracias[i] * 100))"
      ]
    },
    {
      "cell_type": "markdown",
      "metadata": {
        "id": "hkiVUpUn9-99"
      },
      "source": [
        "## Construção e Treinamento do Modelo KNN"
      ]
    },
    {
      "cell_type": "code",
      "execution_count": 18,
      "metadata": {
        "id": "oDiMU2pX9-99"
      },
      "outputs": [],
      "source": [
        "# Criando a versão final do modelo com o maior valor de k\n",
        "modeloFinal = KNeighborsClassifier(n_neighbors = kVals[i])"
      ]
    },
    {
      "cell_type": "code",
      "execution_count": 19,
      "metadata": {
        "id": "N5FjPt-s9-9-"
      },
      "outputs": [
        {
          "data": {
            "text/plain": [
              "KNeighborsClassifier(n_neighbors=3)"
            ]
          },
          "execution_count": 19,
          "metadata": {},
          "output_type": "execute_result"
        }
      ],
      "source": [
        "# Treinamento do modelo\n",
        "modeloFinal.fit(treinoData, treinoLabels)"
      ]
    },
    {
      "cell_type": "markdown",
      "metadata": {
        "id": "4rzA8mCN9-9-"
      },
      "source": [
        "## Previsões com Dados de Teste e Avaliação do Modelo"
      ]
    },
    {
      "cell_type": "code",
      "execution_count": 20,
      "metadata": {
        "id": "9xjK8t0H9-9-"
      },
      "outputs": [],
      "source": [
        "# Previsões com os dados de teste\n",
        "predictions = modeloFinal.predict(testeData)"
      ]
    },
    {
      "cell_type": "code",
      "execution_count": 21,
      "metadata": {
        "id": "Oj8Tw_wp9-9-"
      },
      "outputs": [
        {
          "name": "stdout",
          "output_type": "stream",
          "text": [
            "Avaliação do Modelo nos Dados de Teste\n",
            "              precision    recall  f1-score   support\n",
            "\n",
            "           0       1.00      1.00      1.00        53\n",
            "           1       0.95      0.98      0.96        55\n",
            "           2       1.00      1.00      1.00        49\n",
            "           3       0.98      0.98      0.98        54\n",
            "           4       1.00      0.98      0.99        61\n",
            "           5       0.98      1.00      0.99        59\n",
            "           6       1.00      0.98      0.99        46\n",
            "           7       1.00      1.00      1.00        56\n",
            "           8       1.00      0.95      0.97        59\n",
            "           9       0.96      1.00      0.98        48\n",
            "\n",
            "    accuracy                           0.99       540\n",
            "   macro avg       0.99      0.99      0.99       540\n",
            "weighted avg       0.99      0.99      0.99       540\n",
            "\n"
          ]
        }
      ],
      "source": [
        "# Performande do modelo nos dados de teste\n",
        "print(\"Avaliação do Modelo nos Dados de Teste\")\n",
        "print(classification_report(testeLabels, predictions))"
      ]
    },
    {
      "cell_type": "code",
      "execution_count": 22,
      "metadata": {
        "id": "ByrrueW5tdBi"
      },
      "outputs": [],
      "source": [
        "cm = confusion_matrix(testeLabels, predictions)"
      ]
    },
    {
      "cell_type": "code",
      "execution_count": 23,
      "metadata": {
        "id": "Fdn_JqcltUBY"
      },
      "outputs": [
        {
          "name": "stdout",
          "output_type": "stream",
          "text": [
            "Matriz de Confusão, sem normalização\n",
            "[[53  0  0  0  0  0  0  0  0  0]\n",
            " [ 0 54  0  0  0  1  0  0  0  0]\n",
            " [ 0  0 49  0  0  0  0  0  0  0]\n",
            " [ 0  0  0 53  0  0  0  0  0  1]\n",
            " [ 0  0  0  0 60  0  0  0  0  1]\n",
            " [ 0  0  0  0  0 59  0  0  0  0]\n",
            " [ 0  1  0  0  0  0 45  0  0  0]\n",
            " [ 0  0  0  0  0  0  0 56  0  0]\n",
            " [ 0  2  0  1  0  0  0  0 56  0]\n",
            " [ 0  0  0  0  0  0  0  0  0 48]]\n",
            "Normalizada\n",
            "[[1.         0.         0.         0.         0.         0.\n",
            "  0.         0.         0.         0.        ]\n",
            " [0.         0.98181818 0.         0.         0.         0.01818182\n",
            "  0.         0.         0.         0.        ]\n",
            " [0.         0.         1.         0.         0.         0.\n",
            "  0.         0.         0.         0.        ]\n",
            " [0.         0.         0.         0.98148148 0.         0.\n",
            "  0.         0.         0.         0.01851852]\n",
            " [0.         0.         0.         0.         0.98360656 0.\n",
            "  0.         0.         0.         0.01639344]\n",
            " [0.         0.         0.         0.         0.         1.\n",
            "  0.         0.         0.         0.        ]\n",
            " [0.         0.02173913 0.         0.         0.         0.\n",
            "  0.97826087 0.         0.         0.        ]\n",
            " [0.         0.         0.         0.         0.         0.\n",
            "  0.         1.         0.         0.        ]\n",
            " [0.         0.03389831 0.         0.01694915 0.         0.\n",
            "  0.         0.         0.94915254 0.        ]\n",
            " [0.         0.         0.         0.         0.         0.\n",
            "  0.         0.         0.         1.        ]]\n"
          ]
        },
        {
          "data": {
            "image/png": "[encoded data removed]",
            "text/plain": [
              "<Figure size 432x288 with 2 Axes>"
            ]
          },
          "metadata": {
            "needs_background": "light"
          },
          "output_type": "display_data"
        },
        {
          "data": {
            "image/png": "[encoded data removed]",
            "text/plain": [
              "<Figure size 432x288 with 2 Axes>"
            ]
          },
          "metadata": {
            "needs_background": "light"
          },
          "output_type": "display_data"
        }
      ],
      "source": [
        "titles_options = [(\"Matriz de Confusão, sem normalização\", None),\n",
        "                  (\"Normalizada\", 'true')]\n",
        "for title, normalize in titles_options:\n",
        "    disp = plot_confusion_matrix(modeloFinal, testeData, testeLabels,\n",
        "                                 \n",
        "                                 cmap=plt.cm.Greens,\n",
        "                                 normalize=normalize)\n",
        "    disp.ax_.set_title(title)\n",
        "\n",
        "    print(title)\n",
        "    print(disp.confusion_matrix)\n",
        "\n",
        "plt.show()"
      ]
    },
    {
      "cell_type": "code",
      "execution_count": 27,
      "metadata": {
        "id": "7AH1xEBw9-9_"
      },
      "outputs": [
        {
          "name": "stdout",
          "output_type": "stream",
          "text": [
            "Eu acredito que esse dígito seja: 2\n"
          ]
        },
        {
          "data": {
            "image/png": "[encoded data removed]",
            "text/plain": [
              "<Figure size 432x288 with 1 Axes>"
            ]
          },
          "metadata": {
            "needs_background": "light"
          },
          "output_type": "display_data"
        },
        {
          "name": "stdout",
          "output_type": "stream",
          "text": [
            "Eu acredito que esse dígito seja: 7\n"
          ]
        },
        {
          "data": {
            "image/png": "[encoded data removed]",
            "text/plain": [
              "<Figure size 432x288 with 1 Axes>"
            ]
          },
          "metadata": {
            "needs_background": "light"
          },
          "output_type": "display_data"
        },
        {
          "name": "stdout",
          "output_type": "stream",
          "text": [
            "Eu acredito que esse dígito seja: 8\n"
          ]
        },
        {
          "data": {
            "image/png": "[encoded data removed]",
            "text/plain": [
              "<Figure size 432x288 with 1 Axes>"
            ]
          },
          "metadata": {
            "needs_background": "light"
          },
          "output_type": "display_data"
        },
        {
          "name": "stdout",
          "output_type": "stream",
          "text": [
            "Eu acredito que esse dígito seja: 3\n"
          ]
        },
        {
          "data": {
            "image/png": "[encoded data removed]",
            "text/plain": [
              "<Figure size 432x288 with 1 Axes>"
            ]
          },
          "metadata": {
            "needs_background": "light"
          },
          "output_type": "display_data"
        },
        {
          "name": "stdout",
          "output_type": "stream",
          "text": [
            "Eu acredito que esse dígito seja: 8\n"
          ]
        },
        {
          "data": {
            "image/png": "[encoded data removed]",
            "text/plain": [
              "<Figure size 432x288 with 1 Axes>"
            ]
          },
          "metadata": {
            "needs_background": "light"
          },
          "output_type": "display_data"
        }
      ],
      "source": [
        "# Fazendo previsões com o modelo treinado usando dados de teste\n",
        "for i in np.random.randint(0, high=len(testeLabels), size=(5,)):\n",
        "         \n",
        "    # Obtém uma imagem e faz a previsão\n",
        "    image = testeData[i]\n",
        "    prediction = modeloFinal.predict([image])[0]\n",
        "         \n",
        "    # Mostra as previsões\n",
        "    imgdata = np.array(image, dtype='float')\n",
        "    pixels = imgdata.reshape((8,8))\n",
        "    plt.imshow(pixels,cmap='gray')\n",
        "    plt.annotate(prediction,(3,3),bbox={'facecolor':'white'},fontsize=16)\n",
        "    print(\"Eu acredito que esse dígito seja: {}\".format(prediction))\n",
        "    plt.show()"
      ]
    },
    {
      "cell_type": "markdown",
      "metadata": {
        "id": "pvHjEreb9-9_"
      },
      "source": [
        "## Previsões em Novos Dados com o Modelo Treinado\n",
        "\n",
        "\n"
      ]
    },
    {
      "cell_type": "code",
      "execution_count": null,
      "metadata": {
        "id": "wXhqs6Bm9-9_"
      },
      "outputs": [],
      "source": [
        "# Definindo um novo dígito (dados de entrada)\n",
        "novoDigito = [0.,  0.,  0.,  8., 15.,  1.,  0.,  0.,  0.,  0.,  0., 12., 14.,\n",
        "              0.,  0.,  0.,  0.,  0.,  3., 16.,  7.,  0.,  0.,  0.,  0.,  0.,\n",
        "              6., 16.,  2.,  0.,  0.,  0.,  0.,  0.,  7., 16., 16., 13.,  5.,\n",
        "              0.,  0.,  0., 15., 16.,  9.,  9., 14.,  0.,  0.,  0.,  3., 14.,\n",
        "              9.,  2., 16.,  2.,  0.,  0.,  0.,  7., 15., 16., 11.,  0.]"
      ]
    },
    {
      "cell_type": "code",
      "execution_count": null,
      "metadata": {
        "id": "hURZZMqL9-9_"
      },
      "outputs": [],
      "source": [
        "# Normalizando o novo dígito\n",
        "novoDigito_norm = novoDigito - X_norm"
      ]
    },
    {
      "cell_type": "code",
      "execution_count": null,
      "metadata": {
        "id": "Xx92zL8S9-9_"
      },
      "outputs": [],
      "source": [
        "# Fazendo a previsão com o modelo treinado\n",
        "novaPrevisao = modeloFinal.predict([novoDigito_norm])"
      ]
    },
    {
      "cell_type": "code",
      "execution_count": null,
      "metadata": {
        "id": "ml_5Ye5H9-9_"
      },
      "outputs": [],
      "source": [
        "# Previsão do modelo\n",
        "imgdata = np.array(novoDigito, dtype='float')\n",
        "pixels = imgdata.reshape((8,8))\n",
        "plt.imshow(pixels, cmap='gray')\n",
        "plt.annotate(novaPrevisao,(3,3), bbox={'facecolor':'white'},fontsize=16)\n",
        "print(\"Eu acredito que esse dígito seja: {}\".format(novaPrevisao))\n",
        "plt.show()"
      ]
    },
    {
      "cell_type": "code",
      "execution_count": 28,
      "metadata": {
        "id": "81hsUfyy9--A"
      },
      "outputs": [],
      "source": [
        "# Definindo um novo dígito (dados de entrada)\n",
        "novoDigito = [0.,  0.,  0.,  1., 11.,  9.,  0.,  0.,  0.,  0.,  0.,  7., 16.,\n",
        "              13.,  0.,  0.,  0.,  0.,  4., 14., 16.,  9.,  0.,  0.,  0., 10.,\n",
        "              16., 11., 16.,  8.,  0.,  0.,  0.,  0.,  0.,  3., 16.,  6.,  0.,\n",
        "              0.,  0.,  0.,  0.,  3., 16.,  8.,  0.,  0.,  0.,  0.,  0.,  5.,\n",
        "              16., 10.,  0.,  0.,  0.,  0.,  0.,  2., 14.,  6.,  0.,  0.]"
      ]
    },
    {
      "cell_type": "code",
      "execution_count": 29,
      "metadata": {
        "id": "twJXxz-J9--A"
      },
      "outputs": [],
      "source": [
        "# Normalizando o novo dígito\n",
        "novoDigito_norm = novoDigito - X_norm"
      ]
    },
    {
      "cell_type": "code",
      "execution_count": 30,
      "metadata": {
        "id": "_LA65W5Z9--A"
      },
      "outputs": [],
      "source": [
        "# Fazendo a previsão com o modelo treinado\n",
        "novaPrevisao = modeloFinal.predict([novoDigito_norm])"
      ]
    },
    {
      "cell_type": "code",
      "execution_count": 31,
      "metadata": {
        "id": "63gzefnz9--A"
      },
      "outputs": [
        {
          "name": "stdout",
          "output_type": "stream",
          "text": [
            "Eu acredito que esse dígito seja: [1]\n"
          ]
        },
        {
          "data": {
            "image/png": "[encoded data removed]",
            "text/plain": [
              "<Figure size 432x288 with 1 Axes>"
            ]
          },
          "metadata": {
            "needs_background": "light"
          },
          "output_type": "display_data"
        }
      ],
      "source": [
        "# Previsão do modelo\n",
        "imgdata = np.array(novoDigito, dtype='float')\n",
        "pixels = imgdata.reshape((8,8))\n",
        "plt.imshow(pixels, cmap='gray')\n",
        "plt.annotate(novaPrevisao,(3,3), bbox={'facecolor':'white'},fontsize=16)\n",
        "print(\"Eu acredito que esse dígito seja: {}\".format(novaPrevisao))\n",
        "plt.show()"
      ]
    }
  ],
  "metadata": {
    "anaconda-cloud": {},
    "colab": {
      "name": "Classificacao KNN",
      "provenance": []
    },
    "kernelspec": {
      "display_name": "Python 3.9.12 ('base')",
      "language": "python",
      "name": "python3"
    },
    "language_info": {
      "codemirror_mode": {
        "name": "ipython",
        "version": 3
      },
      "file_extension": ".py",
      "mimetype": "text/x-python",
      "name": "python",
      "nbconvert_exporter": "python",
      "pygments_lexer": "ipython3",
      "version": "3.9.12"
    },
    "vscode": {
      "interpreter": {
        "hash": "7ccb692d2b9a7eb31aee4d66a327ca30c1c8b803c148696b42050ce9accbbccc"
      }
    }
  },
  "nbformat": 4,
  "nbformat_minor": 0
}
