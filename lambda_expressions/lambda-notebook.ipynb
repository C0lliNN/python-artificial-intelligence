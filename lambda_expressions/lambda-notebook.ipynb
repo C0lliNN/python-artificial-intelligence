{
 "cells": [
  {
   "cell_type": "markdown",
   "id": "bc6d420f",
   "metadata": {},
   "source": [
    "**That's similar to Java**"
   ]
  },
  {
   "cell_type": "code",
   "execution_count": 5,
   "id": "066a042e",
   "metadata": {},
   "outputs": [],
   "source": [
    "x = lambda x:x**2"
   ]
  },
  {
   "cell_type": "code",
   "execution_count": 6,
   "id": "9114b632",
   "metadata": {},
   "outputs": [
    {
     "data": {
      "text/plain": [
       "256"
      ]
     },
     "execution_count": 6,
     "metadata": {},
     "output_type": "execute_result"
    }
   ],
   "source": [
    "x(16)"
   ]
  },
  {
   "cell_type": "code",
   "execution_count": 9,
   "id": "5adca656",
   "metadata": {},
   "outputs": [],
   "source": [
    "prepend_name = lambda s: 'Raphael - ' + s"
   ]
  },
  {
   "cell_type": "code",
   "execution_count": 10,
   "id": "a137cbf8",
   "metadata": {},
   "outputs": [
    {
     "data": {
      "text/plain": [
       "'Raphael - This is a random string'"
      ]
     },
     "execution_count": 10,
     "metadata": {},
     "output_type": "execute_result"
    }
   ],
   "source": [
    "prepend_name('This is a random string')"
   ]
  },
  {
   "cell_type": "code",
   "execution_count": null,
   "id": "2536e9ec",
   "metadata": {},
   "outputs": [],
   "source": []
  }
 ],
 "metadata": {
  "kernelspec": {
   "display_name": "Python 3 (ipykernel)",
   "language": "python",
   "name": "python3"
  },
  "language_info": {
   "codemirror_mode": {
    "name": "ipython",
    "version": 3
   },
   "file_extension": ".py",
   "mimetype": "text/x-python",
   "name": "python",
   "nbconvert_exporter": "python",
   "pygments_lexer": "ipython3",
   "version": "3.9.12"
  }
 },
 "nbformat": 4,
 "nbformat_minor": 5
}
