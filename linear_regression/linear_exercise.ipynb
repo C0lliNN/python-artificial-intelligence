{
 "cells": [
  {
   "cell_type": "markdown",
   "metadata": {},
   "source": [
    "# Data Professional Salary"
   ]
  },
  {
   "cell_type": "code",
   "execution_count": 335,
   "metadata": {},
   "outputs": [],
   "source": [
    "import pandas as pd\n",
    "import numpy as np"
   ]
  },
  {
   "cell_type": "markdown",
   "metadata": {},
   "source": [
    "## Lendo Arquivo"
   ]
  },
  {
   "cell_type": "code",
   "execution_count": 336,
   "metadata": {},
   "outputs": [
    {
     "data": {
      "text/html": [
       "<div>\n",
       "<style scoped>\n",
       "    .dataframe tbody tr th:only-of-type {\n",
       "        vertical-align: middle;\n",
       "    }\n",
       "\n",
       "    .dataframe tbody tr th {\n",
       "        vertical-align: top;\n",
       "    }\n",
       "\n",
       "    .dataframe thead th {\n",
       "        text-align: right;\n",
       "    }\n",
       "</style>\n",
       "<table border=\"1\" class=\"dataframe\">\n",
       "  <thead>\n",
       "    <tr style=\"text-align: right;\">\n",
       "      <th></th>\n",
       "      <th>Survey Year</th>\n",
       "      <th>Timestamp</th>\n",
       "      <th>SalaryUSD</th>\n",
       "      <th>Country</th>\n",
       "      <th>PostalCode</th>\n",
       "      <th>PrimaryDatabase</th>\n",
       "      <th>YearsWithThisDatabase</th>\n",
       "      <th>OtherDatabases</th>\n",
       "      <th>EmploymentStatus</th>\n",
       "      <th>JobTitle</th>\n",
       "      <th>...</th>\n",
       "      <th>NewestVersionInProduction</th>\n",
       "      <th>OldestVersionInProduction</th>\n",
       "      <th>PopulationOfLargestCityWithin20Miles</th>\n",
       "      <th>EmploymentSector</th>\n",
       "      <th>LookingForAnotherJob</th>\n",
       "      <th>CareerPlansThisYear</th>\n",
       "      <th>Gender</th>\n",
       "      <th>OtherJobDuties</th>\n",
       "      <th>KindsOfTasksPerformed</th>\n",
       "      <th>Counter</th>\n",
       "    </tr>\n",
       "  </thead>\n",
       "  <tbody>\n",
       "    <tr>\n",
       "      <th>0</th>\n",
       "      <td>2020</td>\n",
       "      <td>1/4/2020 18:50:34</td>\n",
       "      <td>115.000</td>\n",
       "      <td>United States</td>\n",
       "      <td>03</td>\n",
       "      <td>Microsoft SQL Server</td>\n",
       "      <td>15</td>\n",
       "      <td>Microsoft SQL Server, MongoDB, Azure SQL DB (a...</td>\n",
       "      <td>Full time employee</td>\n",
       "      <td>DBA (Production Focus - build &amp; troubleshoot s...</td>\n",
       "      <td>...</td>\n",
       "      <td>SQL Server 2019</td>\n",
       "      <td>SQL Server 2016</td>\n",
       "      <td>20K-99K (large town)</td>\n",
       "      <td>Private business</td>\n",
       "      <td>Not Asked</td>\n",
       "      <td>Stay with the same employer, same role</td>\n",
       "      <td>Male</td>\n",
       "      <td>Not Asked</td>\n",
       "      <td>Not Asked</td>\n",
       "      <td>1</td>\n",
       "    </tr>\n",
       "    <tr>\n",
       "      <th>1</th>\n",
       "      <td>2020</td>\n",
       "      <td>1/4/2020 10:43:02</td>\n",
       "      <td>100.000</td>\n",
       "      <td>United States</td>\n",
       "      <td>NaN</td>\n",
       "      <td>Other</td>\n",
       "      <td>6</td>\n",
       "      <td>MySQL/MariaDB</td>\n",
       "      <td>Full time employee</td>\n",
       "      <td>Developer: App code (C#, JS, etc)</td>\n",
       "      <td>...</td>\n",
       "      <td>informix</td>\n",
       "      <td>informix</td>\n",
       "      <td>1M+ (metropolis)</td>\n",
       "      <td>Private business</td>\n",
       "      <td>Not Asked</td>\n",
       "      <td>Prefer not to say</td>\n",
       "      <td>Male</td>\n",
       "      <td>Not Asked</td>\n",
       "      <td>Not Asked</td>\n",
       "      <td>1</td>\n",
       "    </tr>\n",
       "    <tr>\n",
       "      <th>2</th>\n",
       "      <td>2020</td>\n",
       "      <td>1/4/2020 9:51:46</td>\n",
       "      <td>100.000</td>\n",
       "      <td>Spain</td>\n",
       "      <td>28046</td>\n",
       "      <td>Microsoft SQL Server</td>\n",
       "      <td>2</td>\n",
       "      <td>MySQL/MariaDB</td>\n",
       "      <td>Full time employee</td>\n",
       "      <td>Other</td>\n",
       "      <td>...</td>\n",
       "      <td>SQL Server 2017</td>\n",
       "      <td>SQL Server 2017</td>\n",
       "      <td>1M+ (metropolis)</td>\n",
       "      <td>Private business</td>\n",
       "      <td>Not Asked</td>\n",
       "      <td>Stay with the same employer, same role</td>\n",
       "      <td>Male</td>\n",
       "      <td>Not Asked</td>\n",
       "      <td>Not Asked</td>\n",
       "      <td>1</td>\n",
       "    </tr>\n",
       "    <tr>\n",
       "      <th>3</th>\n",
       "      <td>2020</td>\n",
       "      <td>1/4/2020 1:08:54</td>\n",
       "      <td>70.000</td>\n",
       "      <td>United States</td>\n",
       "      <td>94133</td>\n",
       "      <td>Microsoft SQL Server</td>\n",
       "      <td>3</td>\n",
       "      <td>Microsoft Access</td>\n",
       "      <td>Full time employee</td>\n",
       "      <td>Analyst</td>\n",
       "      <td>...</td>\n",
       "      <td>SQL Server 2016</td>\n",
       "      <td>SQL Server 2012</td>\n",
       "      <td>1M+ (metropolis)</td>\n",
       "      <td>Private business</td>\n",
       "      <td>Not Asked</td>\n",
       "      <td>Change both employers and roles</td>\n",
       "      <td>Male</td>\n",
       "      <td>Not Asked</td>\n",
       "      <td>Not Asked</td>\n",
       "      <td>1</td>\n",
       "    </tr>\n",
       "    <tr>\n",
       "      <th>4</th>\n",
       "      <td>2020</td>\n",
       "      <td>1/3/2020 15:28:54</td>\n",
       "      <td>110.000</td>\n",
       "      <td>United States</td>\n",
       "      <td>95354</td>\n",
       "      <td>Oracle</td>\n",
       "      <td>30</td>\n",
       "      <td>Microsoft SQL Server, Oracle, MySQL/MariaDB, P...</td>\n",
       "      <td>Full time employee</td>\n",
       "      <td>DBA (General - splits time evenly between writ...</td>\n",
       "      <td>...</td>\n",
       "      <td>SQL Server 2016</td>\n",
       "      <td>SQL Server 2008R2</td>\n",
       "      <td>100K-299K (city)</td>\n",
       "      <td>Non-profit</td>\n",
       "      <td>Not Asked</td>\n",
       "      <td>Stay with the same employer, same role</td>\n",
       "      <td>Male</td>\n",
       "      <td>Not Asked</td>\n",
       "      <td>Not Asked</td>\n",
       "      <td>1</td>\n",
       "    </tr>\n",
       "    <tr>\n",
       "      <th>...</th>\n",
       "      <td>...</td>\n",
       "      <td>...</td>\n",
       "      <td>...</td>\n",
       "      <td>...</td>\n",
       "      <td>...</td>\n",
       "      <td>...</td>\n",
       "      <td>...</td>\n",
       "      <td>...</td>\n",
       "      <td>...</td>\n",
       "      <td>...</td>\n",
       "      <td>...</td>\n",
       "      <td>...</td>\n",
       "      <td>...</td>\n",
       "      <td>...</td>\n",
       "      <td>...</td>\n",
       "      <td>...</td>\n",
       "      <td>...</td>\n",
       "      <td>...</td>\n",
       "      <td>...</td>\n",
       "      <td>...</td>\n",
       "      <td>...</td>\n",
       "    </tr>\n",
       "    <tr>\n",
       "      <th>8622</th>\n",
       "      <td>2017</td>\n",
       "      <td>1/5/2017 5:34:34</td>\n",
       "      <td>35.000</td>\n",
       "      <td>France</td>\n",
       "      <td>Not Asked</td>\n",
       "      <td>Microsoft SQL Server</td>\n",
       "      <td>10</td>\n",
       "      <td>Oracle</td>\n",
       "      <td>Full time employee of a consulting/contracting...</td>\n",
       "      <td>DBA</td>\n",
       "      <td>...</td>\n",
       "      <td>Not Asked</td>\n",
       "      <td>Not Asked</td>\n",
       "      <td>Not Asked</td>\n",
       "      <td>Private business</td>\n",
       "      <td>Yes, but only passively (just curious)</td>\n",
       "      <td>Not Asked</td>\n",
       "      <td>Not Asked</td>\n",
       "      <td>Not Asked</td>\n",
       "      <td>Not Asked</td>\n",
       "      <td>1</td>\n",
       "    </tr>\n",
       "    <tr>\n",
       "      <th>8623</th>\n",
       "      <td>2017</td>\n",
       "      <td>1/5/2017 5:33:03</td>\n",
       "      <td>56.000</td>\n",
       "      <td>United Kingdom</td>\n",
       "      <td>Not Asked</td>\n",
       "      <td>Microsoft SQL Server</td>\n",
       "      <td>6</td>\n",
       "      <td>NaN</td>\n",
       "      <td>Full time employee</td>\n",
       "      <td>DBA</td>\n",
       "      <td>...</td>\n",
       "      <td>Not Asked</td>\n",
       "      <td>Not Asked</td>\n",
       "      <td>Not Asked</td>\n",
       "      <td>Private business</td>\n",
       "      <td>Yes, but only passively (just curious)</td>\n",
       "      <td>Not Asked</td>\n",
       "      <td>Not Asked</td>\n",
       "      <td>Not Asked</td>\n",
       "      <td>Not Asked</td>\n",
       "      <td>1</td>\n",
       "    </tr>\n",
       "    <tr>\n",
       "      <th>8624</th>\n",
       "      <td>2017</td>\n",
       "      <td>1/5/2017 5:32:57</td>\n",
       "      <td>95.000</td>\n",
       "      <td>Germany</td>\n",
       "      <td>Not Asked</td>\n",
       "      <td>Microsoft SQL Server</td>\n",
       "      <td>5</td>\n",
       "      <td>Oracle, MySQL/MariaDB, Informix</td>\n",
       "      <td>Full time employee</td>\n",
       "      <td>Other</td>\n",
       "      <td>...</td>\n",
       "      <td>Not Asked</td>\n",
       "      <td>Not Asked</td>\n",
       "      <td>Not Asked</td>\n",
       "      <td>Private business</td>\n",
       "      <td>Yes, but only passively (just curious)</td>\n",
       "      <td>Not Asked</td>\n",
       "      <td>Not Asked</td>\n",
       "      <td>Not Asked</td>\n",
       "      <td>Not Asked</td>\n",
       "      <td>1</td>\n",
       "    </tr>\n",
       "    <tr>\n",
       "      <th>8625</th>\n",
       "      <td>2017</td>\n",
       "      <td>1/5/2017 5:26:23</td>\n",
       "      <td>61.515</td>\n",
       "      <td>United Kingdom</td>\n",
       "      <td>Not Asked</td>\n",
       "      <td>Microsoft SQL Server</td>\n",
       "      <td>15</td>\n",
       "      <td>Oracle, PostgreSQL</td>\n",
       "      <td>Full time employee</td>\n",
       "      <td>DBA</td>\n",
       "      <td>...</td>\n",
       "      <td>Not Asked</td>\n",
       "      <td>Not Asked</td>\n",
       "      <td>Not Asked</td>\n",
       "      <td>Private business</td>\n",
       "      <td>No</td>\n",
       "      <td>Not Asked</td>\n",
       "      <td>Not Asked</td>\n",
       "      <td>Not Asked</td>\n",
       "      <td>Not Asked</td>\n",
       "      <td>1</td>\n",
       "    </tr>\n",
       "    <tr>\n",
       "      <th>8626</th>\n",
       "      <td>2017</td>\n",
       "      <td>1/5/2017 5:10:20</td>\n",
       "      <td>200.000</td>\n",
       "      <td>United States</td>\n",
       "      <td>Not Asked</td>\n",
       "      <td>Microsoft SQL Server</td>\n",
       "      <td>10</td>\n",
       "      <td>MySQL/MariaDB</td>\n",
       "      <td>Full time employee</td>\n",
       "      <td>DBA</td>\n",
       "      <td>...</td>\n",
       "      <td>Not Asked</td>\n",
       "      <td>Not Asked</td>\n",
       "      <td>Not Asked</td>\n",
       "      <td>Private business</td>\n",
       "      <td>Yes, but only passively (just curious)</td>\n",
       "      <td>Not Asked</td>\n",
       "      <td>Not Asked</td>\n",
       "      <td>Not Asked</td>\n",
       "      <td>Not Asked</td>\n",
       "      <td>1</td>\n",
       "    </tr>\n",
       "  </tbody>\n",
       "</table>\n",
       "<p>8627 rows × 31 columns</p>\n",
       "</div>"
      ],
      "text/plain": [
       "      Survey Year          Timestamp SalaryUSD         Country PostalCode  \\\n",
       "0            2020  1/4/2020 18:50:34   115.000   United States         03   \n",
       "1            2020  1/4/2020 10:43:02   100.000   United States        NaN   \n",
       "2            2020   1/4/2020 9:51:46   100.000           Spain      28046   \n",
       "3            2020   1/4/2020 1:08:54    70.000   United States      94133   \n",
       "4            2020  1/3/2020 15:28:54   110.000   United States      95354   \n",
       "...           ...                ...       ...             ...        ...   \n",
       "8622         2017   1/5/2017 5:34:34    35.000          France  Not Asked   \n",
       "8623         2017   1/5/2017 5:33:03    56.000  United Kingdom  Not Asked   \n",
       "8624         2017   1/5/2017 5:32:57    95.000         Germany  Not Asked   \n",
       "8625         2017   1/5/2017 5:26:23    61.515  United Kingdom  Not Asked   \n",
       "8626         2017   1/5/2017 5:10:20   200.000   United States  Not Asked   \n",
       "\n",
       "           PrimaryDatabase  YearsWithThisDatabase  \\\n",
       "0     Microsoft SQL Server                     15   \n",
       "1                    Other                      6   \n",
       "2     Microsoft SQL Server                      2   \n",
       "3     Microsoft SQL Server                      3   \n",
       "4                   Oracle                     30   \n",
       "...                    ...                    ...   \n",
       "8622  Microsoft SQL Server                     10   \n",
       "8623  Microsoft SQL Server                      6   \n",
       "8624  Microsoft SQL Server                      5   \n",
       "8625  Microsoft SQL Server                     15   \n",
       "8626  Microsoft SQL Server                     10   \n",
       "\n",
       "                                         OtherDatabases  \\\n",
       "0     Microsoft SQL Server, MongoDB, Azure SQL DB (a...   \n",
       "1                                         MySQL/MariaDB   \n",
       "2                                         MySQL/MariaDB   \n",
       "3                                      Microsoft Access   \n",
       "4     Microsoft SQL Server, Oracle, MySQL/MariaDB, P...   \n",
       "...                                                 ...   \n",
       "8622                                             Oracle   \n",
       "8623                                                NaN   \n",
       "8624                    Oracle, MySQL/MariaDB, Informix   \n",
       "8625                                 Oracle, PostgreSQL   \n",
       "8626                                      MySQL/MariaDB   \n",
       "\n",
       "                                       EmploymentStatus  \\\n",
       "0                                    Full time employee   \n",
       "1                                    Full time employee   \n",
       "2                                    Full time employee   \n",
       "3                                    Full time employee   \n",
       "4                                    Full time employee   \n",
       "...                                                 ...   \n",
       "8622  Full time employee of a consulting/contracting...   \n",
       "8623                                 Full time employee   \n",
       "8624                                 Full time employee   \n",
       "8625                                 Full time employee   \n",
       "8626                                 Full time employee   \n",
       "\n",
       "                                               JobTitle  ...  \\\n",
       "0     DBA (Production Focus - build & troubleshoot s...  ...   \n",
       "1                     Developer: App code (C#, JS, etc)  ...   \n",
       "2                                                 Other  ...   \n",
       "3                                               Analyst  ...   \n",
       "4     DBA (General - splits time evenly between writ...  ...   \n",
       "...                                                 ...  ...   \n",
       "8622                                                DBA  ...   \n",
       "8623                                                DBA  ...   \n",
       "8624                                              Other  ...   \n",
       "8625                                                DBA  ...   \n",
       "8626                                                DBA  ...   \n",
       "\n",
       "     NewestVersionInProduction  OldestVersionInProduction  \\\n",
       "0              SQL Server 2019            SQL Server 2016   \n",
       "1                     informix                   informix   \n",
       "2              SQL Server 2017            SQL Server 2017   \n",
       "3              SQL Server 2016            SQL Server 2012   \n",
       "4              SQL Server 2016          SQL Server 2008R2   \n",
       "...                        ...                        ...   \n",
       "8622                 Not Asked                  Not Asked   \n",
       "8623                 Not Asked                  Not Asked   \n",
       "8624                 Not Asked                  Not Asked   \n",
       "8625                 Not Asked                  Not Asked   \n",
       "8626                 Not Asked                  Not Asked   \n",
       "\n",
       "     PopulationOfLargestCityWithin20Miles  EmploymentSector  \\\n",
       "0                    20K-99K (large town)  Private business   \n",
       "1                        1M+ (metropolis)  Private business   \n",
       "2                        1M+ (metropolis)  Private business   \n",
       "3                        1M+ (metropolis)  Private business   \n",
       "4                        100K-299K (city)        Non-profit   \n",
       "...                                   ...               ...   \n",
       "8622                            Not Asked  Private business   \n",
       "8623                            Not Asked  Private business   \n",
       "8624                            Not Asked  Private business   \n",
       "8625                            Not Asked  Private business   \n",
       "8626                            Not Asked  Private business   \n",
       "\n",
       "                        LookingForAnotherJob  \\\n",
       "0                                  Not Asked   \n",
       "1                                  Not Asked   \n",
       "2                                  Not Asked   \n",
       "3                                  Not Asked   \n",
       "4                                  Not Asked   \n",
       "...                                      ...   \n",
       "8622  Yes, but only passively (just curious)   \n",
       "8623  Yes, but only passively (just curious)   \n",
       "8624  Yes, but only passively (just curious)   \n",
       "8625                                      No   \n",
       "8626  Yes, but only passively (just curious)   \n",
       "\n",
       "                         CareerPlansThisYear     Gender OtherJobDuties  \\\n",
       "0     Stay with the same employer, same role       Male      Not Asked   \n",
       "1                          Prefer not to say       Male      Not Asked   \n",
       "2     Stay with the same employer, same role       Male      Not Asked   \n",
       "3            Change both employers and roles       Male      Not Asked   \n",
       "4     Stay with the same employer, same role       Male      Not Asked   \n",
       "...                                      ...        ...            ...   \n",
       "8622                               Not Asked  Not Asked      Not Asked   \n",
       "8623                               Not Asked  Not Asked      Not Asked   \n",
       "8624                               Not Asked  Not Asked      Not Asked   \n",
       "8625                               Not Asked  Not Asked      Not Asked   \n",
       "8626                               Not Asked  Not Asked      Not Asked   \n",
       "\n",
       "     KindsOfTasksPerformed Counter  \n",
       "0                Not Asked       1  \n",
       "1                Not Asked       1  \n",
       "2                Not Asked       1  \n",
       "3                Not Asked       1  \n",
       "4                Not Asked       1  \n",
       "...                    ...     ...  \n",
       "8622             Not Asked       1  \n",
       "8623             Not Asked       1  \n",
       "8624             Not Asked       1  \n",
       "8625             Not Asked       1  \n",
       "8626             Not Asked       1  \n",
       "\n",
       "[8627 rows x 31 columns]"
      ]
     },
     "execution_count": 336,
     "metadata": {},
     "output_type": "execute_result"
    }
   ],
   "source": [
    "salary_data_frame = pd.read_csv('data_professional_salary_survery.csv')\n",
    "salary_data_frame"
   ]
  },
  {
   "cell_type": "markdown",
   "metadata": {},
   "source": [
    "## Análise Exploratória"
   ]
  },
  {
   "cell_type": "code",
   "execution_count": 337,
   "metadata": {},
   "outputs": [
    {
     "name": "stdout",
     "output_type": "stream",
     "text": [
      "<class 'pandas.core.frame.DataFrame'>\n",
      "RangeIndex: 8627 entries, 0 to 8626\n",
      "Data columns (total 31 columns):\n",
      " #   Column                                Non-Null Count  Dtype \n",
      "---  ------                                --------------  ----- \n",
      " 0   Survey Year                           8627 non-null   int64 \n",
      " 1   Timestamp                             8627 non-null   object\n",
      " 2   SalaryUSD                             8627 non-null   object\n",
      " 3   Country                               8627 non-null   object\n",
      " 4   PostalCode                            7237 non-null   object\n",
      " 5   PrimaryDatabase                       8627 non-null   object\n",
      " 6   YearsWithThisDatabase                 8627 non-null   int64 \n",
      " 7   OtherDatabases                        6979 non-null   object\n",
      " 8   EmploymentStatus                      8627 non-null   object\n",
      " 9   JobTitle                              8627 non-null   object\n",
      " 10  ManageStaff                           8627 non-null   object\n",
      " 11  YearsWithThisTypeOfJob                8627 non-null   int64 \n",
      " 12  HowManyCompanies                      8627 non-null   object\n",
      " 13  OtherPeopleOnYourTeam                 8627 non-null   object\n",
      " 14  CompanyEmployeesOverall               8627 non-null   object\n",
      " 15  DatabaseServers                       8627 non-null   int64 \n",
      " 16  Education                             8627 non-null   object\n",
      " 17  EducationIsComputerRelated            7411 non-null   object\n",
      " 18  Certifications                        8627 non-null   object\n",
      " 19  HoursWorkedPerWeek                    8627 non-null   object\n",
      " 20  TelecommuteDaysPerWeek                8627 non-null   object\n",
      " 21  NewestVersionInProduction             8617 non-null   object\n",
      " 22  OldestVersionInProduction             8618 non-null   object\n",
      " 23  PopulationOfLargestCityWithin20Miles  8627 non-null   object\n",
      " 24  EmploymentSector                      8627 non-null   object\n",
      " 25  LookingForAnotherJob                  8627 non-null   object\n",
      " 26  CareerPlansThisYear                   8627 non-null   object\n",
      " 27  Gender                                8627 non-null   object\n",
      " 28  OtherJobDuties                        8007 non-null   object\n",
      " 29  KindsOfTasksPerformed                 8420 non-null   object\n",
      " 30  Counter                               8627 non-null   int64 \n",
      "dtypes: int64(5), object(26)\n",
      "memory usage: 2.0+ MB\n"
     ]
    }
   ],
   "source": [
    "salary_data_frame.info()"
   ]
  },
  {
   "cell_type": "code",
   "execution_count": 338,
   "metadata": {},
   "outputs": [
    {
     "data": {
      "text/plain": [
       "Survey Year                                0\n",
       "Timestamp                                  0\n",
       "SalaryUSD                                  0\n",
       "Country                                    0\n",
       "PostalCode                              1390\n",
       "PrimaryDatabase                            0\n",
       "YearsWithThisDatabase                      0\n",
       "OtherDatabases                          1648\n",
       "EmploymentStatus                           0\n",
       "JobTitle                                   0\n",
       "ManageStaff                                0\n",
       "YearsWithThisTypeOfJob                     0\n",
       "HowManyCompanies                           0\n",
       "OtherPeopleOnYourTeam                      0\n",
       "CompanyEmployeesOverall                    0\n",
       "DatabaseServers                            0\n",
       "Education                                  0\n",
       "EducationIsComputerRelated              1216\n",
       "Certifications                             0\n",
       "HoursWorkedPerWeek                         0\n",
       "TelecommuteDaysPerWeek                     0\n",
       "NewestVersionInProduction                 10\n",
       "OldestVersionInProduction                  9\n",
       "PopulationOfLargestCityWithin20Miles       0\n",
       "EmploymentSector                           0\n",
       "LookingForAnotherJob                       0\n",
       "CareerPlansThisYear                        0\n",
       "Gender                                     0\n",
       "OtherJobDuties                           620\n",
       "KindsOfTasksPerformed                    207\n",
       "Counter                                    0\n",
       "dtype: int64"
      ]
     },
     "execution_count": 338,
     "metadata": {},
     "output_type": "execute_result"
    }
   ],
   "source": [
    "salary_data_frame.isnull().sum()"
   ]
  },
  {
   "cell_type": "code",
   "execution_count": 339,
   "metadata": {},
   "outputs": [
    {
     "data": {
      "text/plain": [
       "<BarContainer object of 3 artists>"
      ]
     },
     "execution_count": 339,
     "metadata": {},
     "output_type": "execute_result"
    },
    {
     "data": {
      "image/png": "[encoded data removed]",
      "text/plain": [
       "<Figure size 432x288 with 1 Axes>"
      ]
     },
     "metadata": {
      "needs_background": "light"
     },
     "output_type": "display_data"
    }
   ],
   "source": [
    "import matplotlib.pyplot as plt\n",
    "x, y = np.unique(salary_data_frame['JobTitle'], return_counts=True)\n",
    "x = x[:3]\n",
    "y = y[:3]\n",
    "plt.bar(x, y, width=1)"
   ]
  },
  {
   "cell_type": "code",
   "execution_count": 340,
   "metadata": {},
   "outputs": [
    {
     "data": {
      "text/plain": [
       "(array(['Associates (2 years)', 'Bachelors (4 years)', 'Doctorate/PhD',\n",
       "        'Masters', 'None (no degree completed)', 'Not Asked'], dtype=object),\n",
       " array([ 764, 3658,   51, 1236, 1184, 1734]))"
      ]
     },
     "execution_count": 340,
     "metadata": {},
     "output_type": "execute_result"
    }
   ],
   "source": [
    "np.unique(salary_data_frame['Education'], return_counts=True)"
   ]
  },
  {
   "cell_type": "code",
   "execution_count": 341,
   "metadata": {},
   "outputs": [
    {
     "data": {
      "text/plain": [
       "(array(['Amazon RDS (any flavor)', 'Azure SQL DB', 'Cassandra', 'DB2',\n",
       "        'Elasticsearch', 'Microsoft Access', 'Microsoft SQL Server',\n",
       "        'MongoDB', 'MySQL/MariaDB', 'Oracle', 'Other', 'PostgreSQL', 'SAP',\n",
       "        'SQLite', 'Teradata'], dtype=object),\n",
       " array([  22,   40,    4,   22,    2,   17, 8006,    8,   49,  286,   74,\n",
       "          70,   11,    5,   11]))"
      ]
     },
     "execution_count": 341,
     "metadata": {},
     "output_type": "execute_result"
    }
   ],
   "source": [
    "np.unique(salary_data_frame['PrimaryDatabase'], return_counts=True)"
   ]
  },
  {
   "cell_type": "markdown",
   "metadata": {},
   "source": [
    "### Tratamento de valores inconsistentes"
   ]
  },
  {
   "cell_type": "code",
   "execution_count": 342,
   "metadata": {},
   "outputs": [],
   "source": [
    "# Convertendo Coluna SalaryUSD do tipo str para o tipo float\n",
    "salary_data_frame['SalaryUSD'] = salary_data_frame['SalaryUSD'].apply(lambda s : s.replace('.', ''))\n",
    "salary_data_frame['SalaryUSD'] = salary_data_frame['SalaryUSD'].apply(lambda s : s.replace(',', ''))\n",
    "salary_data_frame = salary_data_frame[salary_data_frame['SalaryUSD'] != '-']\n",
    "salary_data_frame = salary_data_frame.astype({'SalaryUSD': float})"
   ]
  },
  {
   "cell_type": "markdown",
   "metadata": {},
   "source": [
    "### Tratamento de Valores Faltantes"
   ]
  },
  {
   "cell_type": "code",
   "execution_count": 343,
   "metadata": {},
   "outputs": [],
   "source": [
    "# Removendo colunas não necessárias ao modelo\n",
    "salary_data_frame = salary_data_frame.drop('PostalCode', axis=1)\n",
    "salary_data_frame = salary_data_frame.drop('Timestamp', axis=1)\n",
    "salary_data_frame = salary_data_frame.drop('EmploymentStatus', axis=1)\n",
    "salary_data_frame = salary_data_frame.drop('JobTitle', axis=1)\n",
    "salary_data_frame = salary_data_frame.drop('YearsWithThisTypeOfJob', axis=1)\n",
    "salary_data_frame = salary_data_frame.drop('OtherDatabases', axis=1)\n",
    "salary_data_frame = salary_data_frame.drop('HowManyCompanies', axis=1)\n",
    "salary_data_frame = salary_data_frame.drop('Gender', axis=1)\n",
    "salary_data_frame = salary_data_frame.drop('OtherPeopleOnYourTeam', axis=1)\n",
    "salary_data_frame = salary_data_frame.drop('DatabaseServers', axis=1)\n",
    "salary_data_frame = salary_data_frame.drop('EducationIsComputerRelated', axis=1)\n",
    "salary_data_frame = salary_data_frame.drop('Certifications', axis=1)\n",
    "salary_data_frame = salary_data_frame.drop('TelecommuteDaysPerWeek', axis=1)\n",
    "salary_data_frame = salary_data_frame.drop('NewestVersionInProduction', axis=1)\n",
    "salary_data_frame = salary_data_frame.drop('OldestVersionInProduction', axis=1)\n",
    "salary_data_frame = salary_data_frame.drop('PopulationOfLargestCityWithin20Miles', axis=1)\n",
    "salary_data_frame = salary_data_frame.drop('EmploymentSector', axis=1)\n",
    "salary_data_frame = salary_data_frame.drop('LookingForAnotherJob', axis=1)\n",
    "salary_data_frame = salary_data_frame.drop('CareerPlansThisYear', axis=1)\n",
    "salary_data_frame = salary_data_frame.drop('ManageStaff', axis=1)\n",
    "salary_data_frame = salary_data_frame.drop('CompanyEmployeesOverall', axis=1)\n",
    "salary_data_frame = salary_data_frame.drop('OtherJobDuties', axis=1)\n",
    "salary_data_frame = salary_data_frame.drop('KindsOfTasksPerformed', axis=1)\n",
    "salary_data_frame = salary_data_frame.drop('Counter', axis=1)"
   ]
  },
  {
   "cell_type": "code",
   "execution_count": 344,
   "metadata": {},
   "outputs": [],
   "source": [
    "salary_data_frame = salary_data_frame[salary_data_frame['HoursWorkedPerWeek'] != 'Not Asked']\n",
    "salary_data_frame = salary_data_frame.astype({'HoursWorkedPerWeek': int})"
   ]
  },
  {
   "cell_type": "code",
   "execution_count": 345,
   "metadata": {},
   "outputs": [
    {
     "name": "stdout",
     "output_type": "stream",
     "text": [
      "<class 'pandas.core.frame.DataFrame'>\n",
      "Int64Index: 6891 entries, 1734 to 8626\n",
      "Data columns (total 7 columns):\n",
      " #   Column                 Non-Null Count  Dtype  \n",
      "---  ------                 --------------  -----  \n",
      " 0   Survey Year            6891 non-null   int64  \n",
      " 1   SalaryUSD              6891 non-null   float64\n",
      " 2   Country                6891 non-null   object \n",
      " 3   PrimaryDatabase        6891 non-null   object \n",
      " 4   YearsWithThisDatabase  6891 non-null   int64  \n",
      " 5   Education              6891 non-null   object \n",
      " 6   HoursWorkedPerWeek     6891 non-null   int64  \n",
      "dtypes: float64(1), int64(3), object(3)\n",
      "memory usage: 430.7+ KB\n"
     ]
    }
   ],
   "source": [
    "salary_data_frame.info()"
   ]
  },
  {
   "cell_type": "markdown",
   "metadata": {},
   "source": [
    "### Divisão Entre Previsores e Classes"
   ]
  },
  {
   "cell_type": "code",
   "execution_count": 346,
   "metadata": {},
   "outputs": [
    {
     "name": "stdout",
     "output_type": "stream",
     "text": [
      "<class 'pandas.core.frame.DataFrame'>\n",
      "Int64Index: 6891 entries, 1734 to 8626\n",
      "Data columns (total 7 columns):\n",
      " #   Column                 Non-Null Count  Dtype  \n",
      "---  ------                 --------------  -----  \n",
      " 0   Survey Year            6891 non-null   int64  \n",
      " 1   Country                6891 non-null   object \n",
      " 2   PrimaryDatabase        6891 non-null   object \n",
      " 3   YearsWithThisDatabase  6891 non-null   int64  \n",
      " 4   Education              6891 non-null   object \n",
      " 5   HoursWorkedPerWeek     6891 non-null   int64  \n",
      " 6   SalaryUSD              6891 non-null   float64\n",
      "dtypes: float64(1), int64(3), object(3)\n",
      "memory usage: 430.7+ KB\n"
     ]
    }
   ],
   "source": [
    "# Reordenando colunas\n",
    "salary_data_frame = salary_data_frame[['Survey Year', 'Country', 'PrimaryDatabase', 'YearsWithThisDatabase', 'Education', 'HoursWorkedPerWeek', 'SalaryUSD']]\n",
    "salary_data_frame.info()"
   ]
  },
  {
   "cell_type": "code",
   "execution_count": 347,
   "metadata": {},
   "outputs": [],
   "source": [
    "x_salary = salary_data_frame.iloc[:, 0:6].values"
   ]
  },
  {
   "cell_type": "code",
   "execution_count": 348,
   "metadata": {},
   "outputs": [],
   "source": [
    "y_salary = salary_data_frame.iloc[:, 6].values"
   ]
  },
  {
   "cell_type": "code",
   "execution_count": 349,
   "metadata": {},
   "outputs": [
    {
     "data": {
      "text/plain": [
       "((6891, 6), (6891,))"
      ]
     },
     "execution_count": 349,
     "metadata": {},
     "output_type": "execute_result"
    }
   ],
   "source": [
    "x_salary.shape, y_salary.shape"
   ]
  },
  {
   "cell_type": "markdown",
   "metadata": {},
   "source": [
    "### Tratamento de atributos categóricos"
   ]
  },
  {
   "cell_type": "code",
   "execution_count": 350,
   "metadata": {},
   "outputs": [],
   "source": [
    "from sklearn.preprocessing import LabelEncoder"
   ]
  },
  {
   "cell_type": "code",
   "execution_count": 351,
   "metadata": {},
   "outputs": [],
   "source": [
    "label_encoder = LabelEncoder()\n",
    "x_salary[:,1] = label_encoder.fit_transform(x_salary[:,1])\n",
    "x_salary[:,2] = label_encoder.fit_transform(x_salary[:,2])"
   ]
  },
  {
   "cell_type": "code",
   "execution_count": 352,
   "metadata": {},
   "outputs": [
    {
     "data": {
      "text/plain": [
       "array([2019, 11, 6, 19, 'Bachelors (4 years)', 40], dtype=object)"
      ]
     },
     "execution_count": 352,
     "metadata": {},
     "output_type": "execute_result"
    }
   ],
   "source": [
    "x_salary[0]"
   ]
  },
  {
   "cell_type": "code",
   "execution_count": 353,
   "metadata": {},
   "outputs": [],
   "source": [
    "from sklearn.preprocessing import OneHotEncoder\n",
    "from sklearn.compose import ColumnTransformer"
   ]
  },
  {
   "cell_type": "code",
   "execution_count": 354,
   "metadata": {},
   "outputs": [],
   "source": [
    "onehotencoder = ColumnTransformer(transformers=[('OneHot', OneHotEncoder(), [4])], remainder='passthrough')"
   ]
  },
  {
   "cell_type": "code",
   "execution_count": 355,
   "metadata": {},
   "outputs": [],
   "source": [
    "x_salary = onehotencoder.fit_transform(x_salary)"
   ]
  },
  {
   "cell_type": "code",
   "execution_count": 356,
   "metadata": {},
   "outputs": [
    {
     "data": {
      "text/plain": [
       "array([0.0, 1.0, 0.0, 0.0, 0.0, 2019, 11, 6, 19, 40], dtype=object)"
      ]
     },
     "execution_count": 356,
     "metadata": {},
     "output_type": "execute_result"
    }
   ],
   "source": [
    "x_salary[0]"
   ]
  },
  {
   "cell_type": "code",
   "execution_count": 357,
   "metadata": {},
   "outputs": [
    {
     "data": {
      "text/plain": [
       "(6891, 10)"
      ]
     },
     "execution_count": 357,
     "metadata": {},
     "output_type": "execute_result"
    }
   ],
   "source": [
    "x_salary.shape"
   ]
  },
  {
   "cell_type": "markdown",
   "metadata": {},
   "source": [
    "### Escalonamento dos Valores"
   ]
  },
  {
   "cell_type": "code",
   "execution_count": 358,
   "metadata": {},
   "outputs": [],
   "source": [
    "from sklearn.preprocessing import StandardScaler\n",
    "scaler = StandardScaler()\n",
    "x_salary = scaler.fit_transform(x_salary)"
   ]
  },
  {
   "cell_type": "code",
   "execution_count": 359,
   "metadata": {},
   "outputs": [
    {
     "data": {
      "text/plain": [
       "array([-0.35312034,  0.94011504, -0.08634895, -0.46751218, -0.45501815,\n",
       "        1.90036712, -2.51034045, -0.15258589, -0.005576  , -0.44997164])"
      ]
     },
     "execution_count": 359,
     "metadata": {},
     "output_type": "execute_result"
    }
   ],
   "source": [
    "x_salary[0]"
   ]
  },
  {
   "cell_type": "markdown",
   "metadata": {},
   "source": [
    "### Divisão das bases em treinamento e teste"
   ]
  },
  {
   "cell_type": "code",
   "execution_count": 360,
   "metadata": {},
   "outputs": [],
   "source": [
    "from sklearn.model_selection import train_test_split\n",
    "X_salary_training, x_salary_testing, y_salary_training, y_salary_testing = train_test_split(x_salary, y_salary, test_size = 0.2, random_state = 0)"
   ]
  },
  {
   "cell_type": "code",
   "execution_count": 361,
   "metadata": {},
   "outputs": [
    {
     "data": {
      "text/plain": [
       "((5512, 10), (5512,))"
      ]
     },
     "execution_count": 361,
     "metadata": {},
     "output_type": "execute_result"
    }
   ],
   "source": [
    "X_salary_training.shape, y_salary_training.shape"
   ]
  },
  {
   "cell_type": "code",
   "execution_count": 362,
   "metadata": {},
   "outputs": [
    {
     "data": {
      "text/plain": [
       "((1379, 10), (1379,))"
      ]
     },
     "execution_count": 362,
     "metadata": {},
     "output_type": "execute_result"
    }
   ],
   "source": [
    "x_salary_testing.shape, y_salary_testing.shape"
   ]
  },
  {
   "cell_type": "markdown",
   "metadata": {},
   "source": [
    "### Aplicando Regressão Linear"
   ]
  },
  {
   "cell_type": "code",
   "execution_count": 363,
   "metadata": {},
   "outputs": [
    {
     "data": {
      "text/html": [
       "<div>\n",
       "<style scoped>\n",
       "    .dataframe tbody tr th:only-of-type {\n",
       "        vertical-align: middle;\n",
       "    }\n",
       "\n",
       "    .dataframe tbody tr th {\n",
       "        vertical-align: top;\n",
       "    }\n",
       "\n",
       "    .dataframe thead th {\n",
       "        text-align: right;\n",
       "    }\n",
       "</style>\n",
       "<table border=\"1\" class=\"dataframe\">\n",
       "  <thead>\n",
       "    <tr style=\"text-align: right;\">\n",
       "      <th></th>\n",
       "      <th>Survey Year</th>\n",
       "      <th>YearsWithThisDatabase</th>\n",
       "      <th>HoursWorkedPerWeek</th>\n",
       "      <th>SalaryUSD</th>\n",
       "    </tr>\n",
       "  </thead>\n",
       "  <tbody>\n",
       "    <tr>\n",
       "      <th>Survey Year</th>\n",
       "      <td>1.000000</td>\n",
       "      <td>0.007105</td>\n",
       "      <td>-0.009317</td>\n",
       "      <td>0.031921</td>\n",
       "    </tr>\n",
       "    <tr>\n",
       "      <th>YearsWithThisDatabase</th>\n",
       "      <td>0.007105</td>\n",
       "      <td>1.000000</td>\n",
       "      <td>0.009188</td>\n",
       "      <td>0.003088</td>\n",
       "    </tr>\n",
       "    <tr>\n",
       "      <th>HoursWorkedPerWeek</th>\n",
       "      <td>-0.009317</td>\n",
       "      <td>0.009188</td>\n",
       "      <td>1.000000</td>\n",
       "      <td>0.161495</td>\n",
       "    </tr>\n",
       "    <tr>\n",
       "      <th>SalaryUSD</th>\n",
       "      <td>0.031921</td>\n",
       "      <td>0.003088</td>\n",
       "      <td>0.161495</td>\n",
       "      <td>1.000000</td>\n",
       "    </tr>\n",
       "  </tbody>\n",
       "</table>\n",
       "</div>"
      ],
      "text/plain": [
       "                       Survey Year  YearsWithThisDatabase  HoursWorkedPerWeek  \\\n",
       "Survey Year               1.000000               0.007105           -0.009317   \n",
       "YearsWithThisDatabase     0.007105               1.000000            0.009188   \n",
       "HoursWorkedPerWeek       -0.009317               0.009188            1.000000   \n",
       "SalaryUSD                 0.031921               0.003088            0.161495   \n",
       "\n",
       "                       SalaryUSD  \n",
       "Survey Year             0.031921  \n",
       "YearsWithThisDatabase   0.003088  \n",
       "HoursWorkedPerWeek      0.161495  \n",
       "SalaryUSD               1.000000  "
      ]
     },
     "execution_count": 363,
     "metadata": {},
     "output_type": "execute_result"
    }
   ],
   "source": [
    "salary_data_frame.corr()"
   ]
  },
  {
   "cell_type": "code",
   "execution_count": 364,
   "metadata": {},
   "outputs": [],
   "source": [
    "from sklearn.linear_model import LinearRegression"
   ]
  },
  {
   "cell_type": "code",
   "execution_count": 365,
   "metadata": {},
   "outputs": [
    {
     "data": {
      "text/plain": [
       "LinearRegression()"
      ]
     },
     "execution_count": 365,
     "metadata": {},
     "output_type": "execute_result"
    }
   ],
   "source": [
    "regressor = LinearRegression()\n",
    "regressor.fit(X_salary_training, y_salary_training)"
   ]
  },
  {
   "cell_type": "code",
   "execution_count": 366,
   "metadata": {},
   "outputs": [
    {
     "data": {
      "text/plain": [
       "(92713.48711901307,\n",
       " array([-3.74000949e+17, -5.94465681e+17, -1.02097527e+17, -4.57012022e+17,\n",
       "        -4.49046013e+17,  1.83415048e+03,  1.09429526e+04, -4.09419260e+02,\n",
       "        -2.39841990e+01,  7.70031851e+03]))"
      ]
     },
     "execution_count": 366,
     "metadata": {},
     "output_type": "execute_result"
    }
   ],
   "source": [
    "regressor.intercept_, regressor.coef_"
   ]
  },
  {
   "cell_type": "code",
   "execution_count": 367,
   "metadata": {},
   "outputs": [
    {
     "data": {
      "text/plain": [
       "0.0596490164937552"
      ]
     },
     "execution_count": 367,
     "metadata": {},
     "output_type": "execute_result"
    }
   ],
   "source": [
    "regressor.score(X_salary_training, y_salary_training)"
   ]
  },
  {
   "cell_type": "code",
   "execution_count": 368,
   "metadata": {},
   "outputs": [
    {
     "data": {
      "text/plain": [
       "0.08328164014271777"
      ]
     },
     "execution_count": 368,
     "metadata": {},
     "output_type": "execute_result"
    }
   ],
   "source": [
    "regressor.score(x_salary_testing, y_salary_testing)"
   ]
  },
  {
   "cell_type": "code",
   "execution_count": 369,
   "metadata": {},
   "outputs": [
    {
     "data": {
      "text/plain": [
       "(array([89833.48711901]), 105000.0)"
      ]
     },
     "execution_count": 369,
     "metadata": {},
     "output_type": "execute_result"
    }
   ],
   "source": [
    "regressor.predict([x_salary_testing[1000]]), y_salary_testing[1000]"
   ]
  },
  {
   "cell_type": "markdown",
   "metadata": {},
   "source": [
    "### Métricas de Avaliação da Regressão"
   ]
  },
  {
   "cell_type": "code",
   "execution_count": 370,
   "metadata": {},
   "outputs": [],
   "source": [
    "from sklearn import metrics"
   ]
  },
  {
   "cell_type": "code",
   "execution_count": 371,
   "metadata": {},
   "outputs": [],
   "source": [
    "predictions = regressor.predict(x_salary_testing)"
   ]
  },
  {
   "cell_type": "code",
   "execution_count": 372,
   "metadata": {},
   "outputs": [
    {
     "data": {
      "text/plain": [
       "29405.032070182955"
      ]
     },
     "execution_count": 372,
     "metadata": {},
     "output_type": "execute_result"
    }
   ],
   "source": [
    "metrics.mean_absolute_error(y_salary_testing, predictions)"
   ]
  },
  {
   "cell_type": "code",
   "execution_count": 373,
   "metadata": {},
   "outputs": [
    {
     "data": {
      "text/plain": [
       "2496187859.2288933"
      ]
     },
     "execution_count": 373,
     "metadata": {},
     "output_type": "execute_result"
    }
   ],
   "source": [
    "metrics.mean_squared_error(y_salary_testing, predictions)"
   ]
  },
  {
   "cell_type": "code",
   "execution_count": 374,
   "metadata": {},
   "outputs": [
    {
     "data": {
      "text/plain": [
       "49961.86404878118"
      ]
     },
     "execution_count": 374,
     "metadata": {},
     "output_type": "execute_result"
    }
   ],
   "source": [
    "np.sqrt(metrics.mean_squared_error(y_salary_testing, predictions))"
   ]
  }
 ],
 "metadata": {
  "kernelspec": {
   "display_name": "Python 3.9.12 ('base')",
   "language": "python",
   "name": "python3"
  },
  "language_info": {
   "codemirror_mode": {
    "name": "ipython",
    "version": 3
   },
   "file_extension": ".py",
   "mimetype": "text/x-python",
   "name": "python",
   "nbconvert_exporter": "python",
   "pygments_lexer": "ipython3",
   "version": "3.9.12"
  },
  "orig_nbformat": 4,
  "vscode": {
   "interpreter": {
    "hash": "9d9a937a4cd07ea07dda025df50f74053c766088a37f559c313253ea772f4d8e"
   }
  }
 },
 "nbformat": 4,
 "nbformat_minor": 2
}
