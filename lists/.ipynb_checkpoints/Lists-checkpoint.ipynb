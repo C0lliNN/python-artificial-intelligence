{
 "cells": [
  {
   "cell_type": "markdown",
   "id": "e0ad6e97",
   "metadata": {},
   "source": [
    "## Declaration"
   ]
  },
  {
   "cell_type": "code",
   "execution_count": 7,
   "id": "a8a8f499",
   "metadata": {},
   "outputs": [],
   "source": [
    "my_list = ['Blue', 'Green', 'Red']"
   ]
  },
  {
   "cell_type": "code",
   "execution_count": 2,
   "id": "6043bdfd",
   "metadata": {},
   "outputs": [
    {
     "data": {
      "text/plain": [
       "['Blue', ' Green', 'Red']"
      ]
     },
     "execution_count": 2,
     "metadata": {},
     "output_type": "execute_result"
    }
   ],
   "source": [
    "my_list"
   ]
  },
  {
   "cell_type": "code",
   "execution_count": 3,
   "id": "14c8ff37",
   "metadata": {},
   "outputs": [],
   "source": [
    "my_list2 = ['Banana', 4, True]"
   ]
  },
  {
   "cell_type": "code",
   "execution_count": 4,
   "id": "8f3f852c",
   "metadata": {},
   "outputs": [
    {
     "data": {
      "text/plain": [
       "['Banana', 4, True]"
      ]
     },
     "execution_count": 4,
     "metadata": {},
     "output_type": "execute_result"
    }
   ],
   "source": [
    "my_list2"
   ]
  },
  {
   "cell_type": "markdown",
   "id": "362ad455",
   "metadata": {},
   "source": [
    "## Indexing"
   ]
  },
  {
   "cell_type": "code",
   "execution_count": 5,
   "id": "bb95e9b6",
   "metadata": {},
   "outputs": [
    {
     "data": {
      "text/plain": [
       "'Blue'"
      ]
     },
     "execution_count": 5,
     "metadata": {},
     "output_type": "execute_result"
    }
   ],
   "source": [
    "my_list[0]"
   ]
  },
  {
   "cell_type": "code",
   "execution_count": 10,
   "id": "77c897b7",
   "metadata": {},
   "outputs": [
    {
     "data": {
      "text/plain": [
       "4"
      ]
     },
     "execution_count": 10,
     "metadata": {},
     "output_type": "execute_result"
    }
   ],
   "source": [
    "my_list2[1]"
   ]
  },
  {
   "cell_type": "code",
   "execution_count": 11,
   "id": "b2499e00",
   "metadata": {},
   "outputs": [],
   "source": [
    "my_list2[2] = False"
   ]
  },
  {
   "cell_type": "code",
   "execution_count": 13,
   "id": "5f62b767",
   "metadata": {},
   "outputs": [
    {
     "data": {
      "text/plain": [
       "['Banana', 4, False]"
      ]
     },
     "execution_count": 13,
     "metadata": {},
     "output_type": "execute_result"
    }
   ],
   "source": [
    "my_list2"
   ]
  },
  {
   "cell_type": "markdown",
   "id": "1003b70c",
   "metadata": {},
   "source": [
    "## Adding Elements"
   ]
  },
  {
   "cell_type": "code",
   "execution_count": 14,
   "id": "50c0349f",
   "metadata": {},
   "outputs": [],
   "source": [
    "my_list.append('Orange')"
   ]
  },
  {
   "cell_type": "code",
   "execution_count": 15,
   "id": "0867e494",
   "metadata": {},
   "outputs": [
    {
     "data": {
      "text/plain": [
       "['Blue', 'Green', 'Red', 'Orange']"
      ]
     },
     "execution_count": 15,
     "metadata": {},
     "output_type": "execute_result"
    }
   ],
   "source": [
    "my_list"
   ]
  },
  {
   "cell_type": "code",
   "execution_count": 17,
   "id": "d5a7cb4e",
   "metadata": {},
   "outputs": [],
   "source": [
    "my_list.insert(0, 'Gray')"
   ]
  },
  {
   "cell_type": "code",
   "execution_count": 21,
   "id": "5bdd3d67",
   "metadata": {},
   "outputs": [
    {
     "data": {
      "text/plain": [
       "['Gray', 'Blue', 'Green', 'Red']"
      ]
     },
     "execution_count": 21,
     "metadata": {},
     "output_type": "execute_result"
    }
   ],
   "source": [
    "my_list"
   ]
  },
  {
   "cell_type": "markdown",
   "id": "a89ef3fa",
   "metadata": {},
   "source": [
    "## Deleting Elements"
   ]
  },
  {
   "cell_type": "code",
   "execution_count": 19,
   "id": "fd9dc93f",
   "metadata": {},
   "outputs": [],
   "source": [
    "del my_list[4]"
   ]
  },
  {
   "cell_type": "code",
   "execution_count": 20,
   "id": "b0bbb8f3",
   "metadata": {},
   "outputs": [
    {
     "data": {
      "text/plain": [
       "['Gray', 'Blue', 'Green', 'Red']"
      ]
     },
     "execution_count": 20,
     "metadata": {},
     "output_type": "execute_result"
    }
   ],
   "source": [
    "my_list"
   ]
  },
  {
   "cell_type": "markdown",
   "id": "2d82e24e",
   "metadata": {},
   "source": [
    "## Matrix"
   ]
  },
  {
   "cell_type": "code",
   "execution_count": 23,
   "id": "06ffc516",
   "metadata": {},
   "outputs": [],
   "source": [
    "matrix = [[1, 0, 0], [0, 1, 0], [0, 0, 1]]"
   ]
  },
  {
   "cell_type": "code",
   "execution_count": 24,
   "id": "66c983e6",
   "metadata": {},
   "outputs": [
    {
     "data": {
      "text/plain": [
       "[[1, 0, 0], [0, 1, 0], [0, 0, 1]]"
      ]
     },
     "execution_count": 24,
     "metadata": {},
     "output_type": "execute_result"
    }
   ],
   "source": [
    "matrix"
   ]
  },
  {
   "cell_type": "markdown",
   "id": "857fcc9d",
   "metadata": {},
   "source": [
    "## Joining Lists"
   ]
  },
  {
   "cell_type": "code",
   "execution_count": 25,
   "id": "1c51bccd",
   "metadata": {},
   "outputs": [],
   "source": [
    "my_list3 = my_list + my_list2"
   ]
  },
  {
   "cell_type": "code",
   "execution_count": 26,
   "id": "e6a258ce",
   "metadata": {},
   "outputs": [
    {
     "data": {
      "text/plain": [
       "['Gray', 'Blue', 'Green', 'Red', 'Banana', 4, False]"
      ]
     },
     "execution_count": 26,
     "metadata": {},
     "output_type": "execute_result"
    }
   ],
   "source": [
    "my_list3"
   ]
  },
  {
   "cell_type": "markdown",
   "id": "38141d04",
   "metadata": {},
   "source": [
    "## In Operator"
   ]
  },
  {
   "cell_type": "code",
   "execution_count": 27,
   "id": "2521d39d",
   "metadata": {},
   "outputs": [
    {
     "data": {
      "text/plain": [
       "True"
      ]
     },
     "execution_count": 27,
     "metadata": {},
     "output_type": "execute_result"
    }
   ],
   "source": [
    "'Gray' in my_list3"
   ]
  },
  {
   "cell_type": "code",
   "execution_count": 28,
   "id": "8f006dd0",
   "metadata": {},
   "outputs": [
    {
     "data": {
      "text/plain": [
       "False"
      ]
     },
     "execution_count": 28,
     "metadata": {},
     "output_type": "execute_result"
    }
   ],
   "source": [
    "'Lightblue' in my_list"
   ]
  },
  {
   "cell_type": "markdown",
   "id": "e37dfbe8",
   "metadata": {},
   "source": [
    "## Built-in Functions"
   ]
  },
  {
   "cell_type": "code",
   "execution_count": 29,
   "id": "0c3bd09f",
   "metadata": {},
   "outputs": [
    {
     "data": {
      "text/plain": [
       "7"
      ]
     },
     "execution_count": 29,
     "metadata": {},
     "output_type": "execute_result"
    }
   ],
   "source": [
    "len(my_list3)"
   ]
  },
  {
   "cell_type": "code",
   "execution_count": 32,
   "id": "5b7da3b1",
   "metadata": {},
   "outputs": [
    {
     "data": {
      "text/plain": [
       "'Red'"
      ]
     },
     "execution_count": 32,
     "metadata": {},
     "output_type": "execute_result"
    }
   ],
   "source": [
    "max(my_list)"
   ]
  },
  {
   "cell_type": "code",
   "execution_count": 33,
   "id": "3eb04340",
   "metadata": {},
   "outputs": [
    {
     "data": {
      "text/plain": [
       "0"
      ]
     },
     "execution_count": 33,
     "metadata": {},
     "output_type": "execute_result"
    }
   ],
   "source": [
    "my_list.index('Gray')"
   ]
  },
  {
   "cell_type": "code",
   "execution_count": 34,
   "id": "f6eb532a",
   "metadata": {},
   "outputs": [],
   "source": [
    "my_list.remove('Gray')"
   ]
  }
 ],
 "metadata": {
  "kernelspec": {
   "display_name": "Python 3 (ipykernel)",
   "language": "python",
   "name": "python3"
  },
  "language_info": {
   "codemirror_mode": {
    "name": "ipython",
    "version": 3
   },
   "file_extension": ".py",
   "mimetype": "text/x-python",
   "name": "python",
   "nbconvert_exporter": "python",
   "pygments_lexer": "ipython3",
   "version": "3.9.12"
  }
 },
 "nbformat": 4,
 "nbformat_minor": 5
}
