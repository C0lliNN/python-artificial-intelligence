{
 "cells": [
  {
   "cell_type": "markdown",
   "id": "e0ad6e97",
   "metadata": {},
   "source": [
    "## Declaration"
   ]
  },
  {
   "cell_type": "code",
   "execution_count": 1,
   "id": "a8a8f499",
   "metadata": {},
   "outputs": [],
   "source": [
    "my_list = ['Blue', 'Green', 'Red']"
   ]
  },
  {
   "cell_type": "code",
   "execution_count": 2,
   "id": "6043bdfd",
   "metadata": {},
   "outputs": [
    {
     "data": {
      "text/plain": [
       "['Blue', 'Green', 'Red']"
      ]
     },
     "execution_count": 2,
     "metadata": {},
     "output_type": "execute_result"
    }
   ],
   "source": [
    "my_list"
   ]
  },
  {
   "cell_type": "code",
   "execution_count": null,
   "id": "14c8ff37",
   "metadata": {},
   "outputs": [],
   "source": [
    "my_list2 = ['Banana', 4, True]"
   ]
  },
  {
   "cell_type": "code",
   "execution_count": null,
   "id": "8f3f852c",
   "metadata": {},
   "outputs": [],
   "source": [
    "my_list2"
   ]
  },
  {
   "cell_type": "markdown",
   "id": "362ad455",
   "metadata": {},
   "source": [
    "## Indexing"
   ]
  },
  {
   "cell_type": "code",
   "execution_count": null,
   "id": "bb95e9b6",
   "metadata": {},
   "outputs": [],
   "source": [
    "my_list[0]"
   ]
  },
  {
   "cell_type": "code",
   "execution_count": null,
   "id": "77c897b7",
   "metadata": {},
   "outputs": [],
   "source": [
    "my_list2[1]"
   ]
  },
  {
   "cell_type": "code",
   "execution_count": null,
   "id": "b2499e00",
   "metadata": {},
   "outputs": [],
   "source": [
    "my_list2[2] = False"
   ]
  },
  {
   "cell_type": "code",
   "execution_count": null,
   "id": "5f62b767",
   "metadata": {},
   "outputs": [],
   "source": [
    "my_list2"
   ]
  },
  {
   "cell_type": "markdown",
   "id": "1003b70c",
   "metadata": {},
   "source": [
    "## Adding Elements"
   ]
  },
  {
   "cell_type": "code",
   "execution_count": null,
   "id": "50c0349f",
   "metadata": {},
   "outputs": [],
   "source": [
    "my_list.append('Orange')"
   ]
  },
  {
   "cell_type": "code",
   "execution_count": null,
   "id": "0867e494",
   "metadata": {},
   "outputs": [],
   "source": [
    "my_list"
   ]
  },
  {
   "cell_type": "code",
   "execution_count": null,
   "id": "d5a7cb4e",
   "metadata": {},
   "outputs": [],
   "source": [
    "my_list.insert(0, 'Gray')"
   ]
  },
  {
   "cell_type": "code",
   "execution_count": null,
   "id": "5bdd3d67",
   "metadata": {},
   "outputs": [],
   "source": [
    "my_list"
   ]
  },
  {
   "cell_type": "markdown",
   "id": "a89ef3fa",
   "metadata": {},
   "source": [
    "## Deleting Elements"
   ]
  },
  {
   "cell_type": "code",
   "execution_count": null,
   "id": "fd9dc93f",
   "metadata": {},
   "outputs": [],
   "source": [
    "del my_list[4]"
   ]
  },
  {
   "cell_type": "code",
   "execution_count": null,
   "id": "b0bbb8f3",
   "metadata": {},
   "outputs": [],
   "source": [
    "my_list"
   ]
  },
  {
   "cell_type": "markdown",
   "id": "2d82e24e",
   "metadata": {},
   "source": [
    "## Matrix"
   ]
  },
  {
   "cell_type": "code",
   "execution_count": null,
   "id": "06ffc516",
   "metadata": {},
   "outputs": [],
   "source": [
    "matrix = [[1, 0, 0], [0, 1, 0], [0, 0, 1]]"
   ]
  },
  {
   "cell_type": "code",
   "execution_count": null,
   "id": "66c983e6",
   "metadata": {},
   "outputs": [],
   "source": [
    "matrix"
   ]
  },
  {
   "cell_type": "markdown",
   "id": "857fcc9d",
   "metadata": {},
   "source": [
    "## Joining Lists"
   ]
  },
  {
   "cell_type": "code",
   "execution_count": null,
   "id": "1c51bccd",
   "metadata": {},
   "outputs": [],
   "source": [
    "my_list3 = my_list + my_list2"
   ]
  },
  {
   "cell_type": "code",
   "execution_count": null,
   "id": "e6a258ce",
   "metadata": {},
   "outputs": [],
   "source": [
    "my_list3"
   ]
  },
  {
   "cell_type": "markdown",
   "id": "38141d04",
   "metadata": {},
   "source": [
    "## In Operator"
   ]
  },
  {
   "cell_type": "code",
   "execution_count": null,
   "id": "2521d39d",
   "metadata": {},
   "outputs": [],
   "source": [
    "'Gray' in my_list3"
   ]
  },
  {
   "cell_type": "code",
   "execution_count": null,
   "id": "8f006dd0",
   "metadata": {},
   "outputs": [],
   "source": [
    "'Lightblue' in my_list"
   ]
  },
  {
   "cell_type": "markdown",
   "id": "e37dfbe8",
   "metadata": {},
   "source": [
    "## Built-in Functions"
   ]
  },
  {
   "cell_type": "code",
   "execution_count": null,
   "id": "0c3bd09f",
   "metadata": {},
   "outputs": [],
   "source": [
    "len(my_list3)"
   ]
  },
  {
   "cell_type": "code",
   "execution_count": null,
   "id": "5b7da3b1",
   "metadata": {},
   "outputs": [],
   "source": [
    "max(my_list)"
   ]
  },
  {
   "cell_type": "code",
   "execution_count": null,
   "id": "3eb04340",
   "metadata": {},
   "outputs": [],
   "source": [
    "my_list.index('Gray')"
   ]
  },
  {
   "cell_type": "code",
   "execution_count": null,
   "id": "f6eb532a",
   "metadata": {},
   "outputs": [],
   "source": [
    "my_list.remove('Gray')"
   ]
  }
 ],
 "metadata": {
  "kernelspec": {
   "display_name": "Python 3.9.12 ('base')",
   "language": "python",
   "name": "python3"
  },
  "language_info": {
   "codemirror_mode": {
    "name": "ipython",
    "version": 3
   },
   "file_extension": ".py",
   "mimetype": "text/x-python",
   "name": "python",
   "nbconvert_exporter": "python",
   "pygments_lexer": "ipython3",
   "version": "3.9.12"
  },
  "vscode": {
   "interpreter": {
    "hash": "7ccb692d2b9a7eb31aee4d66a327ca30c1c8b803c148696b42050ce9accbbccc"
   }
  }
 },
 "nbformat": 4,
 "nbformat_minor": 5
}
