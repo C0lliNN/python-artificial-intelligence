{
 "cells": [
  {
   "cell_type": "code",
   "execution_count": 1,
   "id": "08a14170",
   "metadata": {},
   "outputs": [],
   "source": [
    "my_list1 = ['Raphael', 'Collin', 'Teles', 'Manhaes']"
   ]
  },
  {
   "cell_type": "code",
   "execution_count": 3,
   "id": "700f6966",
   "metadata": {},
   "outputs": [
    {
     "name": "stdout",
     "output_type": "stream",
     "text": [
      "Raphael\n",
      "Collin\n",
      "Teles\n",
      "Manhaes\n"
     ]
    }
   ],
   "source": [
    "for item in my_list1:\n",
    "    print(item)"
   ]
  },
  {
   "cell_type": "code",
   "execution_count": 6,
   "id": "73eb685b",
   "metadata": {},
   "outputs": [
    {
     "name": "stdout",
     "output_type": "stream",
     "text": [
      "0\n",
      "1\n",
      "2\n",
      "3\n",
      "4\n",
      "5\n",
      "6\n",
      "7\n",
      "8\n",
      "9\n"
     ]
    }
   ],
   "source": [
    "for counter in range(0, 10):\n",
    "    print(counter)"
   ]
  },
  {
   "cell_type": "code",
   "execution_count": 8,
   "id": "da959283",
   "metadata": {},
   "outputs": [
    {
     "name": "stdout",
     "output_type": "stream",
     "text": [
      "0\n",
      "2\n",
      "4\n",
      "6\n",
      "8\n"
     ]
    }
   ],
   "source": [
    "for counter in range(0, 10, 2):\n",
    "    print(counter)"
   ]
  },
  {
   "cell_type": "code",
   "execution_count": 9,
   "id": "90e0eff9",
   "metadata": {},
   "outputs": [],
   "source": [
    "matrix = [[1, 0, 0], [0, 1, 0], [0, 0, 1]]"
   ]
  },
  {
   "cell_type": "code",
   "execution_count": 14,
   "id": "cc939bb7",
   "metadata": {},
   "outputs": [
    {
     "name": "stdout",
     "output_type": "stream",
     "text": [
      "1 0 0 \n",
      "0 1 0 \n",
      "0 0 1 \n"
     ]
    }
   ],
   "source": [
    "for row in matrix:\n",
    "    for j in row:\n",
    "        print(str(j) + ' ', end=\"\")\n",
    "    print('')"
   ]
  },
  {
   "cell_type": "code",
   "execution_count": 19,
   "id": "67bb1bb3",
   "metadata": {},
   "outputs": [
    {
     "name": "stdout",
     "output_type": "stream",
     "text": [
      "1 0 0 \n",
      "0 1 0 \n",
      "0 0 1 \n"
     ]
    }
   ],
   "source": [
    "for i in range(0, len(matrix)):\n",
    "    for j in range(0, len(matrix[i])):\n",
    "        print(str(matrix[i][j]) + ' ', end=\"\")\n",
    "    print('')"
   ]
  },
  {
   "cell_type": "code",
   "execution_count": 21,
   "id": "012ddd0c",
   "metadata": {},
   "outputs": [],
   "source": [
    "my_dic = {'name': 'Raphael', 'age': 28}"
   ]
  },
  {
   "cell_type": "code",
   "execution_count": 22,
   "id": "cb88e565",
   "metadata": {},
   "outputs": [
    {
     "name": "stdout",
     "output_type": "stream",
     "text": [
      "name : Raphael\n",
      "age : 28\n"
     ]
    }
   ],
   "source": [
    "for key in my_dic:\n",
    "    print(key, ':', my_dic[key])"
   ]
  },
  {
   "cell_type": "code",
   "execution_count": 23,
   "id": "2b717969",
   "metadata": {},
   "outputs": [
    {
     "name": "stdout",
     "output_type": "stream",
     "text": [
      "name Raphael\n",
      "age 28\n"
     ]
    }
   ],
   "source": [
    "for k, v in my_dic.items():\n",
    "    print(k, v)"
   ]
  },
  {
   "cell_type": "code",
   "execution_count": 24,
   "id": "12927917",
   "metadata": {},
   "outputs": [],
   "source": [
    "counter = 0"
   ]
  },
  {
   "cell_type": "code",
   "execution_count": 26,
   "id": "12ff271c",
   "metadata": {},
   "outputs": [
    {
     "name": "stdout",
     "output_type": "stream",
     "text": [
      "0\n",
      "1\n",
      "2\n",
      "3\n",
      "4\n",
      "5\n",
      "6\n",
      "7\n",
      "8\n",
      "9\n"
     ]
    }
   ],
   "source": [
    "while counter < 10:\n",
    "    print(counter)\n",
    "    counter = counter + 1"
   ]
  },
  {
   "cell_type": "code",
   "execution_count": 27,
   "id": "a3574bfb",
   "metadata": {},
   "outputs": [],
   "source": [
    "counter = 0"
   ]
  },
  {
   "cell_type": "code",
   "execution_count": 28,
   "id": "68803d34",
   "metadata": {},
   "outputs": [
    {
     "name": "stdout",
     "output_type": "stream",
     "text": [
      "0\n",
      "1\n",
      "2\n",
      "3\n",
      "4\n",
      "5\n",
      "6\n",
      "7\n",
      "8\n",
      "9\n",
      "Counter >= 10\n"
     ]
    }
   ],
   "source": [
    "while counter < 10:\n",
    "    print(counter)\n",
    "    counter = counter + 1\n",
    "# Executes every time the condition is false    \n",
    "else:\n",
    "    print('Counter >= 10')"
   ]
  },
  {
   "cell_type": "code",
   "execution_count": 29,
   "id": "c5f7597f",
   "metadata": {},
   "outputs": [],
   "source": [
    "counter = 0"
   ]
  },
  {
   "cell_type": "code",
   "execution_count": 30,
   "id": "2cea42e3",
   "metadata": {},
   "outputs": [
    {
     "name": "stdout",
     "output_type": "stream",
     "text": [
      "0\n",
      "1\n",
      "2\n",
      "3\n"
     ]
    }
   ],
   "source": [
    "while counter < 100:\n",
    "    if counter == 4:\n",
    "        break\n",
    "    else:\n",
    "        pass\n",
    "    print(counter)\n",
    "    counter +=1"
   ]
  },
  {
   "cell_type": "code",
   "execution_count": 31,
   "id": "f7a90ecd",
   "metadata": {},
   "outputs": [
    {
     "name": "stdout",
     "output_type": "stream",
     "text": [
      "0\n",
      "-2\n",
      "-4\n",
      "-6\n",
      "-8\n",
      "-10\n",
      "-12\n",
      "-14\n",
      "-16\n",
      "-18\n"
     ]
    }
   ],
   "source": [
    "for i in range(0, -20, -2):\n",
    "    print(i)"
   ]
  },
  {
   "cell_type": "code",
   "execution_count": 32,
   "id": "7bcb7781",
   "metadata": {},
   "outputs": [
    {
     "data": {
      "text/plain": [
       "range"
      ]
     },
     "execution_count": 32,
     "metadata": {},
     "output_type": "execute_result"
    }
   ],
   "source": [
    "type(range(0, 3))"
   ]
  }
 ],
 "metadata": {
  "kernelspec": {
   "display_name": "Python 3 (ipykernel)",
   "language": "python",
   "name": "python3"
  },
  "language_info": {
   "codemirror_mode": {
    "name": "ipython",
    "version": 3
   },
   "file_extension": ".py",
   "mimetype": "text/x-python",
   "name": "python",
   "nbconvert_exporter": "python",
   "pygments_lexer": "ipython3",
   "version": "3.9.12"
  }
 },
 "nbformat": 4,
 "nbformat_minor": 5
}
