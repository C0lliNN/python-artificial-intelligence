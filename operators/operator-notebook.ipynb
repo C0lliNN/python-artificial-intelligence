{
 "cells": [
  {
   "cell_type": "markdown",
   "id": "22dc58f7",
   "metadata": {},
   "source": [
    "## Arithmetic Operators"
   ]
  },
  {
   "cell_type": "code",
   "execution_count": 3,
   "id": "17f0d98d",
   "metadata": {},
   "outputs": [],
   "source": [
    "a = 20\n",
    "b = 4"
   ]
  },
  {
   "cell_type": "code",
   "execution_count": 21,
   "id": "797a06c5",
   "metadata": {},
   "outputs": [
    {
     "name": "stdout",
     "output_type": "stream",
     "text": [
      "24\n",
      "16\n",
      "80\n",
      "5.0\n",
      "6.666666666666667\n",
      "6\n",
      "160000\n"
     ]
    }
   ],
   "source": [
    "print(a + b)\n",
    "print(a - b)\n",
    "print(a * b)\n",
    "print(a / b)\n",
    "print(a / 3)\n",
    "print(a // 3)\n",
    "print(a ** b)"
   ]
  },
  {
   "cell_type": "markdown",
   "id": "8ef46d63",
   "metadata": {},
   "source": [
    "## Comparison Operators"
   ]
  },
  {
   "cell_type": "code",
   "execution_count": 5,
   "id": "34d74cae",
   "metadata": {},
   "outputs": [],
   "source": [
    "c = 12\n",
    "d = 12"
   ]
  },
  {
   "cell_type": "code",
   "execution_count": 6,
   "id": "a51fb00a",
   "metadata": {},
   "outputs": [
    {
     "name": "stdout",
     "output_type": "stream",
     "text": [
      "True\n",
      "True\n",
      "False\n",
      "True\n"
     ]
    }
   ],
   "source": [
    "print(c == d)\n",
    "print(c != a)\n",
    "print(c >= a)\n",
    "print(c <= a)"
   ]
  },
  {
   "cell_type": "markdown",
   "id": "6bd655aa",
   "metadata": {},
   "source": [
    "## Relational Operators"
   ]
  },
  {
   "cell_type": "code",
   "execution_count": 11,
   "id": "0851059f",
   "metadata": {},
   "outputs": [
    {
     "name": "stdout",
     "output_type": "stream",
     "text": [
      "True\n",
      "True\n",
      "True\n"
     ]
    }
   ],
   "source": [
    "print(c == d and a >= b)\n",
    "print(c != d or a >= b)\n",
    "print(not(a == b))"
   ]
  },
  {
   "cell_type": "markdown",
   "id": "42fc536c",
   "metadata": {},
   "source": [
    "## Type Functions"
   ]
  },
  {
   "cell_type": "code",
   "execution_count": 15,
   "id": "e4ac54c1",
   "metadata": {},
   "outputs": [
    {
     "data": {
      "text/plain": [
       "str"
      ]
     },
     "execution_count": 15,
     "metadata": {},
     "output_type": "execute_result"
    }
   ],
   "source": [
    "print(type(a))\n",
    "print(type('Raphael'))"
   ]
  },
  {
   "cell_type": "code",
   "execution_count": 18,
   "id": "ba24914a",
   "metadata": {},
   "outputs": [
    {
     "name": "stdout",
     "output_type": "stream",
     "text": [
      "True\n",
      "False\n"
     ]
    }
   ],
   "source": [
    "print(str == type('Raphael'))\n",
    "print(int == type('Raphael'))"
   ]
  },
  {
   "cell_type": "markdown",
   "id": "e4b7e8db",
   "metadata": {},
   "source": [
    "## Conversions"
   ]
  },
  {
   "cell_type": "code",
   "execution_count": 20,
   "id": "56e25d03",
   "metadata": {},
   "outputs": [
    {
     "name": "stdout",
     "output_type": "stream",
     "text": [
      "5.0\n",
      "5\n"
     ]
    }
   ],
   "source": [
    "my_int = 5\n",
    "print(float(my_int))\n",
    "\n",
    "my_float = 5.5\n",
    "print(int(my_float))"
   ]
  },
  {
   "cell_type": "markdown",
   "id": "fc09d8a0",
   "metadata": {},
   "source": [
    "## Binary and Hex"
   ]
  },
  {
   "cell_type": "code",
   "execution_count": 22,
   "id": "c4e255f2",
   "metadata": {},
   "outputs": [
    {
     "name": "stdout",
     "output_type": "stream",
     "text": [
      "0b1100\n",
      "0xc\n"
     ]
    }
   ],
   "source": [
    "print(bin(12))\n",
    "print(hex(12))"
   ]
  },
  {
   "cell_type": "markdown",
   "id": "96fc1a1f",
   "metadata": {},
   "source": [
    "## abs, round and pow"
   ]
  },
  {
   "cell_type": "code",
   "execution_count": 23,
   "id": "51dfed7a",
   "metadata": {},
   "outputs": [
    {
     "data": {
      "text/plain": [
       "3.14"
      ]
     },
     "execution_count": 23,
     "metadata": {},
     "output_type": "execute_result"
    }
   ],
   "source": [
    "round(3.14151922, 2)"
   ]
  },
  {
   "cell_type": "code",
   "execution_count": 24,
   "id": "665769a6",
   "metadata": {},
   "outputs": [
    {
     "data": {
      "text/plain": [
       "16"
      ]
     },
     "execution_count": 24,
     "metadata": {},
     "output_type": "execute_result"
    }
   ],
   "source": [
    "pow(4, 2)"
   ]
  },
  {
   "cell_type": "code",
   "execution_count": 25,
   "id": "58c5cd01",
   "metadata": {},
   "outputs": [
    {
     "data": {
      "text/plain": [
       "125"
      ]
     },
     "execution_count": 25,
     "metadata": {},
     "output_type": "execute_result"
    }
   ],
   "source": [
    "5 ** 3"
   ]
  }
 ],
 "metadata": {
  "kernelspec": {
   "display_name": "Python 3 (ipykernel)",
   "language": "python",
   "name": "python3"
  },
  "language_info": {
   "codemirror_mode": {
    "name": "ipython",
    "version": 3
   },
   "file_extension": ".py",
   "mimetype": "text/x-python",
   "name": "python",
   "nbconvert_exporter": "python",
   "pygments_lexer": "ipython3",
   "version": "3.9.12"
  }
 },
 "nbformat": 4,
 "nbformat_minor": 5
}
