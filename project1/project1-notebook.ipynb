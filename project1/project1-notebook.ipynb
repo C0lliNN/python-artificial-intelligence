{
 "cells": [
  {
   "cell_type": "markdown",
   "metadata": {},
   "source": [
    "# Previsor de Popularidade um Filme baseado em suas características"
   ]
  },
  {
   "cell_type": "markdown",
   "metadata": {},
   "source": [
    "## Obtenção dos Dados"
   ]
  },
  {
   "cell_type": "code",
   "execution_count": 201,
   "metadata": {},
   "outputs": [
    {
     "name": "stdout",
     "output_type": "stream",
     "text": [
      "Os filmes já foram obtidos\n"
     ]
    }
   ],
   "source": [
    "# OBS: Como na descrição do trabalho, menciona que a uso da mesma base que o trabalho de web scrapping é opcional,\n",
    "# decidi utlizar uma outra base que contenha mais dados para uma análise mais completa.\n",
    "\n",
    "# Fonte: https://www.themoviedb.org/\n",
    "\n",
    "from os.path import exists\n",
    "import requests\n",
    "import json\n",
    "\n",
    "file_path = 'movies.json'\n",
    "\n",
    "# Se os já estiverem disponíveis, não é necessário baixá-los novamente\n",
    "if not exists(file_path):\n",
    "\n",
    "  api_key = '466eefcef086aaa1375e8ecfebc6a345'\n",
    "  base_url = 'https://api.themoviedb.org/3'\n",
    "\n",
    "  response = requests.get('%s/genre/movie/list?api_key=%s' % (base_url, api_key))\n",
    "  genres = json.loads(response.content)['genres']\n",
    "\n",
    "  pages_to_fetch = 50\n",
    "  movies = []\n",
    "  for genre in genres: \n",
    "    for page in range(1, pages_to_fetch + 1):\n",
    "      print('Obtendo files para o gênero %s: página %d' % (genre['name'], page))\n",
    "      response = requests.get('%s/search/movie?api_key=%s&query=%s&page=%d' % (base_url, api_key, genre['name'], page))\n",
    "      movies = movies + json.loads(response.content)['results']\n",
    "\n",
    "  print('%d filmes foram obtidos' % (len(movies)))\n",
    "\n",
    "  f = open(file_path, \"w\")\n",
    "  f.write(json.dumps(movies))\n",
    "  f.close()\n",
    "else:\n",
    "  print('Os filmes já foram obtidos')"
   ]
  },
  {
   "cell_type": "markdown",
   "metadata": {},
   "source": [
    "## Análise Exploratórios"
   ]
  },
  {
   "cell_type": "code",
   "execution_count": 202,
   "metadata": {},
   "outputs": [],
   "source": [
    "import pandas as pd\n",
    "movies = pd.read_json('movies.json')"
   ]
  },
  {
   "cell_type": "code",
   "execution_count": 203,
   "metadata": {},
   "outputs": [
    {
     "name": "stdout",
     "output_type": "stream",
     "text": [
      "<class 'pandas.core.frame.DataFrame'>\n",
      "RangeIndex: 12353 entries, 0 to 12352\n",
      "Data columns (total 14 columns):\n",
      " #   Column             Non-Null Count  Dtype  \n",
      "---  ------             --------------  -----  \n",
      " 0   adult              12353 non-null  bool   \n",
      " 1   backdrop_path      4260 non-null   object \n",
      " 2   genre_ids          12353 non-null  object \n",
      " 3   id                 12353 non-null  int64  \n",
      " 4   original_language  12353 non-null  object \n",
      " 5   original_title     12353 non-null  object \n",
      " 6   overview           12353 non-null  object \n",
      " 7   popularity         12353 non-null  float64\n",
      " 8   poster_path        9003 non-null   object \n",
      " 9   release_date       12249 non-null  object \n",
      " 10  title              12353 non-null  object \n",
      " 11  video              12353 non-null  bool   \n",
      " 12  vote_average       12353 non-null  float64\n",
      " 13  vote_count         12353 non-null  int64  \n",
      "dtypes: bool(2), float64(2), int64(2), object(8)\n",
      "memory usage: 1.2+ MB\n"
     ]
    }
   ],
   "source": [
    "movies.info()"
   ]
  },
  {
   "cell_type": "code",
   "execution_count": 204,
   "metadata": {},
   "outputs": [
    {
     "data": {
      "text/html": [
       "<div>\n",
       "<style scoped>\n",
       "    .dataframe tbody tr th:only-of-type {\n",
       "        vertical-align: middle;\n",
       "    }\n",
       "\n",
       "    .dataframe tbody tr th {\n",
       "        vertical-align: top;\n",
       "    }\n",
       "\n",
       "    .dataframe thead th {\n",
       "        text-align: right;\n",
       "    }\n",
       "</style>\n",
       "<table border=\"1\" class=\"dataframe\">\n",
       "  <thead>\n",
       "    <tr style=\"text-align: right;\">\n",
       "      <th></th>\n",
       "      <th>id</th>\n",
       "      <th>popularity</th>\n",
       "      <th>vote_average</th>\n",
       "      <th>vote_count</th>\n",
       "    </tr>\n",
       "  </thead>\n",
       "  <tbody>\n",
       "    <tr>\n",
       "      <th>count</th>\n",
       "      <td>1.235300e+04</td>\n",
       "      <td>12353.000000</td>\n",
       "      <td>12353.000000</td>\n",
       "      <td>12353.000000</td>\n",
       "    </tr>\n",
       "    <tr>\n",
       "      <th>mean</th>\n",
       "      <td>4.758971e+05</td>\n",
       "      <td>2.614875</td>\n",
       "      <td>2.866194</td>\n",
       "      <td>44.439893</td>\n",
       "    </tr>\n",
       "    <tr>\n",
       "      <th>std</th>\n",
       "      <td>2.945272e+05</td>\n",
       "      <td>13.524873</td>\n",
       "      <td>3.301434</td>\n",
       "      <td>467.763527</td>\n",
       "    </tr>\n",
       "    <tr>\n",
       "      <th>min</th>\n",
       "      <td>5.900000e+01</td>\n",
       "      <td>0.000000</td>\n",
       "      <td>0.000000</td>\n",
       "      <td>0.000000</td>\n",
       "    </tr>\n",
       "    <tr>\n",
       "      <th>25%</th>\n",
       "      <td>2.452660e+05</td>\n",
       "      <td>0.600000</td>\n",
       "      <td>0.000000</td>\n",
       "      <td>0.000000</td>\n",
       "    </tr>\n",
       "    <tr>\n",
       "      <th>50%</th>\n",
       "      <td>4.566260e+05</td>\n",
       "      <td>0.600000</td>\n",
       "      <td>0.000000</td>\n",
       "      <td>0.000000</td>\n",
       "    </tr>\n",
       "    <tr>\n",
       "      <th>75%</th>\n",
       "      <td>7.237920e+05</td>\n",
       "      <td>1.400000</td>\n",
       "      <td>6.000000</td>\n",
       "      <td>4.000000</td>\n",
       "    </tr>\n",
       "    <tr>\n",
       "      <th>max</th>\n",
       "      <td>1.021890e+06</td>\n",
       "      <td>798.721000</td>\n",
       "      <td>10.000000</td>\n",
       "      <td>25343.000000</td>\n",
       "    </tr>\n",
       "  </tbody>\n",
       "</table>\n",
       "</div>"
      ],
      "text/plain": [
       "                 id    popularity  vote_average    vote_count\n",
       "count  1.235300e+04  12353.000000  12353.000000  12353.000000\n",
       "mean   4.758971e+05      2.614875      2.866194     44.439893\n",
       "std    2.945272e+05     13.524873      3.301434    467.763527\n",
       "min    5.900000e+01      0.000000      0.000000      0.000000\n",
       "25%    2.452660e+05      0.600000      0.000000      0.000000\n",
       "50%    4.566260e+05      0.600000      0.000000      0.000000\n",
       "75%    7.237920e+05      1.400000      6.000000      4.000000\n",
       "max    1.021890e+06    798.721000     10.000000  25343.000000"
      ]
     },
     "execution_count": 204,
     "metadata": {},
     "output_type": "execute_result"
    }
   ],
   "source": [
    "movies.describe()"
   ]
  },
  {
   "cell_type": "code",
   "execution_count": 205,
   "metadata": {},
   "outputs": [
    {
     "data": {
      "text/html": [
       "<div>\n",
       "<style scoped>\n",
       "    .dataframe tbody tr th:only-of-type {\n",
       "        vertical-align: middle;\n",
       "    }\n",
       "\n",
       "    .dataframe tbody tr th {\n",
       "        vertical-align: top;\n",
       "    }\n",
       "\n",
       "    .dataframe thead th {\n",
       "        text-align: right;\n",
       "    }\n",
       "</style>\n",
       "<table border=\"1\" class=\"dataframe\">\n",
       "  <thead>\n",
       "    <tr style=\"text-align: right;\">\n",
       "      <th></th>\n",
       "      <th>adult</th>\n",
       "      <th>backdrop_path</th>\n",
       "      <th>genre_ids</th>\n",
       "      <th>id</th>\n",
       "      <th>original_language</th>\n",
       "      <th>original_title</th>\n",
       "      <th>overview</th>\n",
       "      <th>popularity</th>\n",
       "      <th>poster_path</th>\n",
       "      <th>release_date</th>\n",
       "      <th>title</th>\n",
       "      <th>video</th>\n",
       "      <th>vote_average</th>\n",
       "      <th>vote_count</th>\n",
       "    </tr>\n",
       "  </thead>\n",
       "  <tbody>\n",
       "    <tr>\n",
       "      <th>0</th>\n",
       "      <td>False</td>\n",
       "      <td>/3BPocRQcnZG4BrxocERhP4TCtDY.jpg</td>\n",
       "      <td>[12, 14, 28, 35, 10751]</td>\n",
       "      <td>9593</td>\n",
       "      <td>en</td>\n",
       "      <td>Last Action Hero</td>\n",
       "      <td>Following the death of his father, young Danny...</td>\n",
       "      <td>17.818</td>\n",
       "      <td>/8B4aFGBHWmj2F4jkDNHjzSX2GOw.jpg</td>\n",
       "      <td>1993-06-18</td>\n",
       "      <td>Last Action Hero</td>\n",
       "      <td>False</td>\n",
       "      <td>6.4</td>\n",
       "      <td>2150</td>\n",
       "    </tr>\n",
       "    <tr>\n",
       "      <th>1</th>\n",
       "      <td>False</td>\n",
       "      <td>/bE6SwIJrDuDchsXXoE2njVFu795.jpg</td>\n",
       "      <td>[16, 35, 10751]</td>\n",
       "      <td>10715</td>\n",
       "      <td>en</td>\n",
       "      <td>Looney Tunes: Back in Action</td>\n",
       "      <td>Fed up with all the attention going to Bugs Bu...</td>\n",
       "      <td>25.286</td>\n",
       "      <td>/pNrQaH0ATrz9wFrNpwfB1aU4MpK.jpg</td>\n",
       "      <td>2003-11-14</td>\n",
       "      <td>Looney Tunes: Back in Action</td>\n",
       "      <td>False</td>\n",
       "      <td>6.4</td>\n",
       "      <td>1257</td>\n",
       "    </tr>\n",
       "    <tr>\n",
       "      <th>2</th>\n",
       "      <td>False</td>\n",
       "      <td>/vcI8kweLIpGv7jb9NWVunOyZ2O7.jpg</td>\n",
       "      <td>[18]</td>\n",
       "      <td>9422</td>\n",
       "      <td>en</td>\n",
       "      <td>A Civil Action</td>\n",
       "      <td>Jan Schlickmann is a cynical lawyer who goes o...</td>\n",
       "      <td>14.057</td>\n",
       "      <td>/6VsitR71vVKiGEDFPT71dKigbGN.jpg</td>\n",
       "      <td>1998-12-25</td>\n",
       "      <td>A Civil Action</td>\n",
       "      <td>False</td>\n",
       "      <td>6.4</td>\n",
       "      <td>339</td>\n",
       "    </tr>\n",
       "    <tr>\n",
       "      <th>3</th>\n",
       "      <td>False</td>\n",
       "      <td>/cZCz0YHnyTnhCj2BcdcJsjaFP2u.jpg</td>\n",
       "      <td>[10751, 16, 14]</td>\n",
       "      <td>260234</td>\n",
       "      <td>en</td>\n",
       "      <td>Monster High: Frights, Camera, Action!</td>\n",
       "      <td>When Draculaura is led to believe she's the ri...</td>\n",
       "      <td>22.891</td>\n",
       "      <td>/kGlTFeilg6RtyYi86kRQRml8CRG.jpg</td>\n",
       "      <td>2014-03-25</td>\n",
       "      <td>Monster High: Frights, Camera, Action!</td>\n",
       "      <td>False</td>\n",
       "      <td>7.2</td>\n",
       "      <td>101</td>\n",
       "    </tr>\n",
       "    <tr>\n",
       "      <th>4</th>\n",
       "      <td>False</td>\n",
       "      <td>/tmpY6f0Lf7Dnx6inByjvHby4AYf.jpg</td>\n",
       "      <td>[35, 18]</td>\n",
       "      <td>454283</td>\n",
       "      <td>en</td>\n",
       "      <td>Action Point</td>\n",
       "      <td>A daredevil designs and operates his own theme...</td>\n",
       "      <td>10.170</td>\n",
       "      <td>/5lqJx0uNKrD1cEKgaqF1LBsLAoi.jpg</td>\n",
       "      <td>2018-06-01</td>\n",
       "      <td>Action Point</td>\n",
       "      <td>False</td>\n",
       "      <td>5.4</td>\n",
       "      <td>286</td>\n",
       "    </tr>\n",
       "  </tbody>\n",
       "</table>\n",
       "</div>"
      ],
      "text/plain": [
       "   adult                     backdrop_path                genre_ids      id  \\\n",
       "0  False  /3BPocRQcnZG4BrxocERhP4TCtDY.jpg  [12, 14, 28, 35, 10751]    9593   \n",
       "1  False  /bE6SwIJrDuDchsXXoE2njVFu795.jpg          [16, 35, 10751]   10715   \n",
       "2  False  /vcI8kweLIpGv7jb9NWVunOyZ2O7.jpg                     [18]    9422   \n",
       "3  False  /cZCz0YHnyTnhCj2BcdcJsjaFP2u.jpg          [10751, 16, 14]  260234   \n",
       "4  False  /tmpY6f0Lf7Dnx6inByjvHby4AYf.jpg                 [35, 18]  454283   \n",
       "\n",
       "  original_language                          original_title  \\\n",
       "0                en                        Last Action Hero   \n",
       "1                en            Looney Tunes: Back in Action   \n",
       "2                en                          A Civil Action   \n",
       "3                en  Monster High: Frights, Camera, Action!   \n",
       "4                en                            Action Point   \n",
       "\n",
       "                                            overview  popularity  \\\n",
       "0  Following the death of his father, young Danny...      17.818   \n",
       "1  Fed up with all the attention going to Bugs Bu...      25.286   \n",
       "2  Jan Schlickmann is a cynical lawyer who goes o...      14.057   \n",
       "3  When Draculaura is led to believe she's the ri...      22.891   \n",
       "4  A daredevil designs and operates his own theme...      10.170   \n",
       "\n",
       "                        poster_path release_date  \\\n",
       "0  /8B4aFGBHWmj2F4jkDNHjzSX2GOw.jpg   1993-06-18   \n",
       "1  /pNrQaH0ATrz9wFrNpwfB1aU4MpK.jpg   2003-11-14   \n",
       "2  /6VsitR71vVKiGEDFPT71dKigbGN.jpg   1998-12-25   \n",
       "3  /kGlTFeilg6RtyYi86kRQRml8CRG.jpg   2014-03-25   \n",
       "4  /5lqJx0uNKrD1cEKgaqF1LBsLAoi.jpg   2018-06-01   \n",
       "\n",
       "                                    title  video  vote_average  vote_count  \n",
       "0                        Last Action Hero  False           6.4        2150  \n",
       "1            Looney Tunes: Back in Action  False           6.4        1257  \n",
       "2                          A Civil Action  False           6.4         339  \n",
       "3  Monster High: Frights, Camera, Action!  False           7.2         101  \n",
       "4                            Action Point  False           5.4         286  "
      ]
     },
     "execution_count": 205,
     "metadata": {},
     "output_type": "execute_result"
    }
   ],
   "source": [
    "movies.head(5)"
   ]
  },
  {
   "cell_type": "markdown",
   "metadata": {},
   "source": [
    "### Visualização dos Dados"
   ]
  },
  {
   "cell_type": "code",
   "execution_count": 206,
   "metadata": {},
   "outputs": [
    {
     "data": {
      "text/plain": [
       "5781"
      ]
     },
     "execution_count": 206,
     "metadata": {},
     "output_type": "execute_result"
    }
   ],
   "source": [
    "len(movies[movies['vote_average'] > 0.0])"
   ]
  },
  {
   "cell_type": "code",
   "execution_count": 207,
   "metadata": {},
   "outputs": [
    {
     "data": {
      "text/plain": [
       "11951"
      ]
     },
     "execution_count": 207,
     "metadata": {},
     "output_type": "execute_result"
    }
   ],
   "source": [
    "import numpy as np\n",
    "len(np.unique(movies['id']))"
   ]
  },
  {
   "cell_type": "code",
   "execution_count": 208,
   "metadata": {},
   "outputs": [
    {
     "data": {
      "text/plain": [
       "(array([ 122.,  133.,  134.,  335.,  809., 1412., 1493.,  762.,  231.,\n",
       "         350.]),\n",
       " array([ 0.5 ,  1.45,  2.4 ,  3.35,  4.3 ,  5.25,  6.2 ,  7.15,  8.1 ,\n",
       "         9.05, 10.  ]),\n",
       " <a list of 10 Patch objects>)"
      ]
     },
     "execution_count": 208,
     "metadata": {},
     "output_type": "execute_result"
    },
    {
     "data": {
      "image/png": "[encoded data removed]",
      "text/plain": [
       "<Figure size 432x288 with 1 Axes>"
      ]
     },
     "metadata": {
      "needs_background": "light"
     },
     "output_type": "display_data"
    }
   ],
   "source": [
    "import matplotlib.pyplot as plt\n",
    "plt.hist(movies[movies['vote_average'] > 0.0]['vote_average'])"
   ]
  },
  {
   "cell_type": "markdown",
   "metadata": {},
   "source": [
    "## Preparação dos Dados"
   ]
  },
  {
   "cell_type": "markdown",
   "metadata": {},
   "source": [
    "### Removendo Colunas"
   ]
  },
  {
   "cell_type": "code",
   "execution_count": 209,
   "metadata": {},
   "outputs": [],
   "source": [
    "# Removendo Colunas\n",
    "movies = movies.drop('adult', axis=1)\n",
    "movies = movies.drop('backdrop_path', axis=1)\n",
    "movies = movies.drop('id', axis=1)\n",
    "movies = movies.drop('original_language', axis=1)\n",
    "movies = movies.drop('original_title', axis=1)\n",
    "movies = movies.drop('overview', axis=1)\n",
    "movies = movies.drop('poster_path', axis=1)\n",
    "movies = movies.drop('title', axis=1)\n",
    "movies = movies.drop('video', axis=1)"
   ]
  },
  {
   "cell_type": "code",
   "execution_count": 210,
   "metadata": {},
   "outputs": [
    {
     "data": {
      "text/plain": [
       "genre_ids         0\n",
       "popularity        0\n",
       "release_date    104\n",
       "vote_average      0\n",
       "vote_count        0\n",
       "dtype: int64"
      ]
     },
     "execution_count": 210,
     "metadata": {},
     "output_type": "execute_result"
    }
   ],
   "source": [
    "movies.isnull().sum()"
   ]
  },
  {
   "cell_type": "markdown",
   "metadata": {},
   "source": [
    "### Removendo Linhas com valores missing"
   ]
  },
  {
   "cell_type": "code",
   "execution_count": 211,
   "metadata": {},
   "outputs": [],
   "source": [
    "# Removendo linhas com valores missing\n",
    "movies.dropna(inplace=True)"
   ]
  },
  {
   "cell_type": "markdown",
   "metadata": {},
   "source": [
    "### Removendo Valores Inconsistentes"
   ]
  },
  {
   "cell_type": "code",
   "execution_count": 212,
   "metadata": {},
   "outputs": [],
   "source": [
    "movies = movies.drop(movies[movies['vote_average'] <= 0.0].index)"
   ]
  },
  {
   "cell_type": "markdown",
   "metadata": {},
   "source": [
    "### Reordenando Colunas"
   ]
  },
  {
   "cell_type": "code",
   "execution_count": 213,
   "metadata": {},
   "outputs": [],
   "source": [
    "movies = movies[['genre_ids', 'release_date', 'vote_count', 'popularity', 'vote_average']]"
   ]
  },
  {
   "cell_type": "markdown",
   "metadata": {},
   "source": [
    "### Transformando valores"
   ]
  },
  {
   "cell_type": "code",
   "execution_count": 214,
   "metadata": {},
   "outputs": [],
   "source": [
    "# Usando apenas o ano da data de lançamento\n",
    "movies['release_date'] = movies['release_date'].apply(lambda date: date[:4])"
   ]
  },
  {
   "cell_type": "code",
   "execution_count": 215,
   "metadata": {},
   "outputs": [],
   "source": [
    "# Transformando coluna genre_ids\n",
    "def transform_genre_ids(genre_ids):\n",
    "  if type(genre_ids) == 'int':\n",
    "    return genre_ids\n",
    "  \n",
    "  if len(genre_ids) == 0:\n",
    "    return -1\n",
    "\n",
    "  return genre_ids[0]\n",
    "\n",
    "movies['genre_ids'] = movies['genre_ids'].apply(transform_genre_ids)"
   ]
  },
  {
   "cell_type": "code",
   "execution_count": 216,
   "metadata": {},
   "outputs": [],
   "source": [
    "movies = movies.drop(movies[movies['genre_ids'] < 0].index)"
   ]
  },
  {
   "cell_type": "code",
   "execution_count": 217,
   "metadata": {},
   "outputs": [
    {
     "data": {
      "text/plain": [
       "5179"
      ]
     },
     "execution_count": 217,
     "metadata": {},
     "output_type": "execute_result"
    }
   ],
   "source": [
    "len(movies)"
   ]
  },
  {
   "cell_type": "code",
   "execution_count": 218,
   "metadata": {},
   "outputs": [],
   "source": [
    "# Renomeando colunas\n",
    "movies = movies.rename(columns={'genre_ids': 'genre_id'})"
   ]
  },
  {
   "cell_type": "markdown",
   "metadata": {},
   "source": [
    "### Tratando de atributos categóricos"
   ]
  },
  {
   "cell_type": "code",
   "execution_count": 219,
   "metadata": {},
   "outputs": [
    {
     "data": {
      "text/html": [
       "<div>\n",
       "<style scoped>\n",
       "    .dataframe tbody tr th:only-of-type {\n",
       "        vertical-align: middle;\n",
       "    }\n",
       "\n",
       "    .dataframe tbody tr th {\n",
       "        vertical-align: top;\n",
       "    }\n",
       "\n",
       "    .dataframe thead th {\n",
       "        text-align: right;\n",
       "    }\n",
       "</style>\n",
       "<table border=\"1\" class=\"dataframe\">\n",
       "  <thead>\n",
       "    <tr style=\"text-align: right;\">\n",
       "      <th></th>\n",
       "      <th>genre_id</th>\n",
       "      <th>release_date</th>\n",
       "      <th>vote_count</th>\n",
       "      <th>popularity</th>\n",
       "      <th>vote_average</th>\n",
       "    </tr>\n",
       "  </thead>\n",
       "  <tbody>\n",
       "    <tr>\n",
       "      <th>0</th>\n",
       "      <td>12</td>\n",
       "      <td>1993</td>\n",
       "      <td>2150</td>\n",
       "      <td>17.818</td>\n",
       "      <td>6.4</td>\n",
       "    </tr>\n",
       "  </tbody>\n",
       "</table>\n",
       "</div>"
      ],
      "text/plain": [
       "   genre_id release_date  vote_count  popularity  vote_average\n",
       "0        12         1993        2150      17.818           6.4"
      ]
     },
     "execution_count": 219,
     "metadata": {},
     "output_type": "execute_result"
    }
   ],
   "source": [
    "movies.head(1)"
   ]
  },
  {
   "cell_type": "code",
   "execution_count": 220,
   "metadata": {},
   "outputs": [],
   "source": [
    "from sklearn.preprocessing import LabelEncoder\n",
    "label_encoder = LabelEncoder()"
   ]
  },
  {
   "cell_type": "code",
   "execution_count": 221,
   "metadata": {},
   "outputs": [],
   "source": [
    "movies['release_date'] = label_encoder.fit_transform(movies['release_date'])"
   ]
  },
  {
   "cell_type": "code",
   "execution_count": 222,
   "metadata": {},
   "outputs": [
    {
     "data": {
      "text/plain": [
       "0     95\n",
       "1    105\n",
       "2    100\n",
       "3    116\n",
       "4    120\n",
       "5     90\n",
       "6     86\n",
       "7    122\n",
       "8     90\n",
       "9     87\n",
       "Name: release_date, dtype: int64"
      ]
     },
     "execution_count": 222,
     "metadata": {},
     "output_type": "execute_result"
    }
   ],
   "source": [
    "movies['release_date'].head(10)"
   ]
  },
  {
   "cell_type": "markdown",
   "metadata": {},
   "source": [
    "## Aplicando Regressão Linear Múltipla"
   ]
  },
  {
   "cell_type": "markdown",
   "metadata": {},
   "source": [
    "### Escalonamento dos Valores"
   ]
  },
  {
   "cell_type": "code",
   "execution_count": 223,
   "metadata": {},
   "outputs": [],
   "source": [
    "x_movies = movies.iloc[:, 0:4].values\n",
    "y_movies = movies.iloc[:, 4].values"
   ]
  },
  {
   "cell_type": "code",
   "execution_count": 224,
   "metadata": {},
   "outputs": [
    {
     "data": {
      "text/plain": [
       "((5179, 4), (5179,))"
      ]
     },
     "execution_count": 224,
     "metadata": {},
     "output_type": "execute_result"
    }
   ],
   "source": [
    "x_movies.shape, y_movies.shape"
   ]
  },
  {
   "cell_type": "code",
   "execution_count": 225,
   "metadata": {},
   "outputs": [],
   "source": [
    "from sklearn.preprocessing import StandardScaler\n",
    "scaler = StandardScaler()\n",
    "x_movies = scaler.fit_transform(x_movies)"
   ]
  },
  {
   "cell_type": "code",
   "execution_count": 226,
   "metadata": {},
   "outputs": [
    {
     "data": {
      "text/plain": [
       "array([-0.42371011, -0.10634918,  2.84755931,  0.61265591])"
      ]
     },
     "execution_count": 226,
     "metadata": {},
     "output_type": "execute_result"
    }
   ],
   "source": [
    "x_movies[0]"
   ]
  },
  {
   "cell_type": "markdown",
   "metadata": {},
   "source": [
    "### Divisão entre Treinamento e Teste"
   ]
  },
  {
   "cell_type": "code",
   "execution_count": 227,
   "metadata": {},
   "outputs": [],
   "source": [
    "from sklearn.model_selection import train_test_split\n",
    "x_movies_training, x_movies_testing, y_movies_training, y_movies_testing = train_test_split(x_movies, y_movies, test_size = 0.2, random_state = 0)"
   ]
  },
  {
   "cell_type": "code",
   "execution_count": 228,
   "metadata": {},
   "outputs": [
    {
     "data": {
      "text/plain": [
       "((4143, 4), (4143,))"
      ]
     },
     "execution_count": 228,
     "metadata": {},
     "output_type": "execute_result"
    }
   ],
   "source": [
    "x_movies_training.shape, y_movies_training.shape"
   ]
  },
  {
   "cell_type": "code",
   "execution_count": 229,
   "metadata": {},
   "outputs": [
    {
     "data": {
      "text/plain": [
       "((1036, 4), (1036,))"
      ]
     },
     "execution_count": 229,
     "metadata": {},
     "output_type": "execute_result"
    }
   ],
   "source": [
    "x_movies_testing.shape, y_movies_testing.shape"
   ]
  },
  {
   "cell_type": "markdown",
   "metadata": {},
   "source": [
    "### Aplicando o Modelo"
   ]
  },
  {
   "cell_type": "code",
   "execution_count": 230,
   "metadata": {},
   "outputs": [
    {
     "data": {
      "text/html": [
       "<div>\n",
       "<style scoped>\n",
       "    .dataframe tbody tr th:only-of-type {\n",
       "        vertical-align: middle;\n",
       "    }\n",
       "\n",
       "    .dataframe tbody tr th {\n",
       "        vertical-align: top;\n",
       "    }\n",
       "\n",
       "    .dataframe thead th {\n",
       "        text-align: right;\n",
       "    }\n",
       "</style>\n",
       "<table border=\"1\" class=\"dataframe\">\n",
       "  <thead>\n",
       "    <tr style=\"text-align: right;\">\n",
       "      <th></th>\n",
       "      <th>genre_id</th>\n",
       "      <th>release_date</th>\n",
       "      <th>vote_count</th>\n",
       "      <th>popularity</th>\n",
       "      <th>vote_average</th>\n",
       "    </tr>\n",
       "  </thead>\n",
       "  <tbody>\n",
       "    <tr>\n",
       "      <th>genre_id</th>\n",
       "      <td>1.000000</td>\n",
       "      <td>0.080566</td>\n",
       "      <td>-0.024534</td>\n",
       "      <td>0.002114</td>\n",
       "      <td>0.081765</td>\n",
       "    </tr>\n",
       "    <tr>\n",
       "      <th>release_date</th>\n",
       "      <td>0.080566</td>\n",
       "      <td>1.000000</td>\n",
       "      <td>0.044397</td>\n",
       "      <td>0.095520</td>\n",
       "      <td>0.119372</td>\n",
       "    </tr>\n",
       "    <tr>\n",
       "      <th>vote_count</th>\n",
       "      <td>-0.024534</td>\n",
       "      <td>0.044397</td>\n",
       "      <td>1.000000</td>\n",
       "      <td>0.386904</td>\n",
       "      <td>0.056393</td>\n",
       "    </tr>\n",
       "    <tr>\n",
       "      <th>popularity</th>\n",
       "      <td>0.002114</td>\n",
       "      <td>0.095520</td>\n",
       "      <td>0.386904</td>\n",
       "      <td>1.000000</td>\n",
       "      <td>0.048297</td>\n",
       "    </tr>\n",
       "    <tr>\n",
       "      <th>vote_average</th>\n",
       "      <td>0.081765</td>\n",
       "      <td>0.119372</td>\n",
       "      <td>0.056393</td>\n",
       "      <td>0.048297</td>\n",
       "      <td>1.000000</td>\n",
       "    </tr>\n",
       "  </tbody>\n",
       "</table>\n",
       "</div>"
      ],
      "text/plain": [
       "              genre_id  release_date  vote_count  popularity  vote_average\n",
       "genre_id      1.000000      0.080566   -0.024534    0.002114      0.081765\n",
       "release_date  0.080566      1.000000    0.044397    0.095520      0.119372\n",
       "vote_count   -0.024534      0.044397    1.000000    0.386904      0.056393\n",
       "popularity    0.002114      0.095520    0.386904    1.000000      0.048297\n",
       "vote_average  0.081765      0.119372    0.056393    0.048297      1.000000"
      ]
     },
     "execution_count": 230,
     "metadata": {},
     "output_type": "execute_result"
    }
   ],
   "source": [
    "movies.corr()"
   ]
  },
  {
   "cell_type": "code",
   "execution_count": 231,
   "metadata": {},
   "outputs": [
    {
     "data": {
      "text/plain": [
       "LinearRegression(copy_X=True, fit_intercept=True, n_jobs=None, normalize=False)"
      ]
     },
     "execution_count": 231,
     "metadata": {},
     "output_type": "execute_result"
    }
   ],
   "source": [
    "from sklearn.linear_model import LinearRegression\n",
    "regressor = LinearRegression()\n",
    "regressor.fit(x_movies_training, y_movies_training)"
   ]
  },
  {
   "cell_type": "code",
   "execution_count": 232,
   "metadata": {},
   "outputs": [
    {
     "data": {
      "text/plain": [
       "(6.12160489337604, array([0.10636073, 0.21055461, 0.07611241, 0.02482564]))"
      ]
     },
     "execution_count": 232,
     "metadata": {},
     "output_type": "execute_result"
    }
   ],
   "source": [
    "regressor.intercept_, regressor.coef_"
   ]
  },
  {
   "cell_type": "markdown",
   "metadata": {},
   "source": [
    "## Apresentação dos Resultados"
   ]
  },
  {
   "cell_type": "code",
   "execution_count": 233,
   "metadata": {},
   "outputs": [
    {
     "data": {
      "text/plain": [
       "0.016676190769862265"
      ]
     },
     "execution_count": 233,
     "metadata": {},
     "output_type": "execute_result"
    }
   ],
   "source": [
    "regressor.score(x_movies_testing, y_movies_testing)"
   ]
  },
  {
   "cell_type": "code",
   "execution_count": 235,
   "metadata": {},
   "outputs": [
    {
     "data": {
      "text/plain": [
       "(6.240506488982153, 7.0)"
      ]
     },
     "execution_count": 235,
     "metadata": {},
     "output_type": "execute_result"
    }
   ],
   "source": [
    "# Prevendo um valor\n",
    "regressor.predict([x_movies_testing[800]])[0], y_movies_testing[800]"
   ]
  },
  {
   "cell_type": "code",
   "execution_count": 238,
   "metadata": {},
   "outputs": [],
   "source": [
    "predictions = regressor.predict(x_movies_testing)"
   ]
  },
  {
   "cell_type": "code",
   "execution_count": 239,
   "metadata": {},
   "outputs": [
    {
     "name": "stdout",
     "output_type": "stream",
     "text": [
      "MAE: 1.217456982124914\n",
      "MSE: 2.813852473736126\n",
      "RMSE: 1.677454164421826\n"
     ]
    }
   ],
   "source": [
    "from sklearn import metrics\n",
    "print('MAE:', metrics.mean_absolute_error(y_movies_testing, predictions))\n",
    "print('MSE:', metrics.mean_squared_error(y_movies_testing, predictions))\n",
    "print('RMSE:', np.sqrt(metrics.mean_squared_error(y_movies_testing, predictions)))"
   ]
  }
 ],
 "metadata": {
  "kernelspec": {
   "display_name": "Python 3.7.6 ('base')",
   "language": "python",
   "name": "python3"
  },
  "language_info": {
   "codemirror_mode": {
    "name": "ipython",
    "version": 3
   },
   "file_extension": ".py",
   "mimetype": "text/x-python",
   "name": "python",
   "nbconvert_exporter": "python",
   "pygments_lexer": "ipython3",
   "version": "3.7.6"
  },
  "orig_nbformat": 4,
  "vscode": {
   "interpreter": {
    "hash": "7ccb692d2b9a7eb31aee4d66a327ca30c1c8b803c148696b42050ce9accbbccc"
   }
  }
 },
 "nbformat": 4,
 "nbformat_minor": 2
}
