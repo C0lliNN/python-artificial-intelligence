{
 "cells": [
  {
   "cell_type": "markdown",
   "id": "4c908f24",
   "metadata": {},
   "source": [
    "## Tuples"
   ]
  },
  {
   "cell_type": "code",
   "execution_count": 1,
   "id": "5bda5582",
   "metadata": {},
   "outputs": [],
   "source": [
    "my_tuple1 = ('Raphael', 'Collin')"
   ]
  },
  {
   "cell_type": "code",
   "execution_count": 2,
   "id": "f573270c",
   "metadata": {},
   "outputs": [
    {
     "data": {
      "text/plain": [
       "('Raphael', 'Collin')"
      ]
     },
     "execution_count": 2,
     "metadata": {},
     "output_type": "execute_result"
    }
   ],
   "source": [
    "my_tuple1"
   ]
  },
  {
   "cell_type": "code",
   "execution_count": 4,
   "id": "4efbf5db",
   "metadata": {},
   "outputs": [
    {
     "data": {
      "text/plain": [
       "'Raphael'"
      ]
     },
     "execution_count": 4,
     "metadata": {},
     "output_type": "execute_result"
    }
   ],
   "source": [
    "my_tuple1[0]"
   ]
  },
  {
   "cell_type": "code",
   "execution_count": 5,
   "id": "eedfea93",
   "metadata": {},
   "outputs": [],
   "source": [
    "# We can have duplicates. It's not like a set\n",
    "my_tuple2 = ('Raphael', 'Raphael')"
   ]
  },
  {
   "cell_type": "code",
   "execution_count": 7,
   "id": "8dd5ad80",
   "metadata": {},
   "outputs": [
    {
     "data": {
      "text/plain": [
       "('Raphael', 'Raphael')"
      ]
     },
     "execution_count": 7,
     "metadata": {},
     "output_type": "execute_result"
    }
   ],
   "source": [
    "my_tuple2"
   ]
  },
  {
   "cell_type": "code",
   "execution_count": 8,
   "id": "c4185439",
   "metadata": {},
   "outputs": [],
   "source": [
    "my_tuple3 = ('Raphael', 18, 20000)"
   ]
  },
  {
   "cell_type": "code",
   "execution_count": 9,
   "id": "1c19e35a",
   "metadata": {},
   "outputs": [
    {
     "data": {
      "text/plain": [
       "('Raphael', 18, 20000)"
      ]
     },
     "execution_count": 9,
     "metadata": {},
     "output_type": "execute_result"
    }
   ],
   "source": [
    "my_tuple3"
   ]
  },
  {
   "cell_type": "code",
   "execution_count": 10,
   "id": "883fece7",
   "metadata": {},
   "outputs": [
    {
     "data": {
      "text/plain": [
       "3"
      ]
     },
     "execution_count": 10,
     "metadata": {},
     "output_type": "execute_result"
    }
   ],
   "source": [
    "len(my_tuple3)"
   ]
  },
  {
   "cell_type": "code",
   "execution_count": 12,
   "id": "43c21d24",
   "metadata": {},
   "outputs": [
    {
     "data": {
      "text/plain": [
       "('Collin',)"
      ]
     },
     "execution_count": 12,
     "metadata": {},
     "output_type": "execute_result"
    }
   ],
   "source": [
    "my_tuple1[1:]"
   ]
  },
  {
   "cell_type": "code",
   "execution_count": 13,
   "id": "f5495c02",
   "metadata": {},
   "outputs": [],
   "source": [
    "my_list1 = list(my_tuple1)"
   ]
  },
  {
   "cell_type": "code",
   "execution_count": 14,
   "id": "f9d9a58c",
   "metadata": {},
   "outputs": [
    {
     "data": {
      "text/plain": [
       "['Raphael', 'Collin']"
      ]
     },
     "execution_count": 14,
     "metadata": {},
     "output_type": "execute_result"
    }
   ],
   "source": [
    "my_list1"
   ]
  },
  {
   "cell_type": "code",
   "execution_count": 17,
   "id": "ef9d6e32",
   "metadata": {},
   "outputs": [],
   "source": [
    "my_list1[1] = 'Manhaes'"
   ]
  },
  {
   "cell_type": "code",
   "execution_count": 18,
   "id": "a2171bbe",
   "metadata": {},
   "outputs": [],
   "source": [
    "my_tuple4 = tuple(my_list1)"
   ]
  },
  {
   "cell_type": "code",
   "execution_count": 19,
   "id": "edfa825b",
   "metadata": {},
   "outputs": [
    {
     "data": {
      "text/plain": [
       "('Raphael', 'Manhaes')"
      ]
     },
     "execution_count": 19,
     "metadata": {},
     "output_type": "execute_result"
    }
   ],
   "source": [
    "my_tuple4"
   ]
  }
 ],
 "metadata": {
  "kernelspec": {
   "display_name": "Python 3 (ipykernel)",
   "language": "python",
   "name": "python3"
  },
  "language_info": {
   "codemirror_mode": {
    "name": "ipython",
    "version": 3
   },
   "file_extension": ".py",
   "mimetype": "text/x-python",
   "name": "python",
   "nbconvert_exporter": "python",
   "pygments_lexer": "ipython3",
   "version": "3.9.12"
  }
 },
 "nbformat": 4,
 "nbformat_minor": 5
}
