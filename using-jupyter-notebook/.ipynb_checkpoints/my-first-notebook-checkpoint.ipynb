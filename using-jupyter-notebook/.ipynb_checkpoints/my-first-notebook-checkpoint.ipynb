{
 "cells": [
  {
   "cell_type": "markdown",
   "id": "7f37fa1d",
   "metadata": {},
   "source": [
    "# That's my first Jupyter Notebbok"
   ]
  },
  {
   "cell_type": "code",
   "execution_count": null,
   "id": "7ce8c8d0",
   "metadata": {},
   "outputs": [],
   "source": [
    "print(\"Hello World!\")"
   ]
  },
  {
   "cell_type": "code",
   "execution_count": null,
   "id": "841b4994",
   "metadata": {},
   "outputs": [],
   "source": [
    "print(\"Raphael Collin Teles Manhaes\")"
   ]
  },
  {
   "cell_type": "code",
   "execution_count": null,
   "id": "b71a7db5",
   "metadata": {},
   "outputs": [],
   "source": [
    "2 + 2"
   ]
  },
  {
   "cell_type": "code",
   "execution_count": null,
   "id": "36bee6ae",
   "metadata": {},
   "outputs": [],
   "source": [
    "# Pressione as teclas shift e enter para executar esse código\n",
    "\n",
    "from IPython.display import IFrame\n",
    "\n",
    "IFrame(src = 'https://www.youtube.com/embed/2WL-XTl2QYI', width = '560', height = '315')"
   ]
  }
 ],
 "metadata": {
  "kernelspec": {
   "display_name": "Python 3 (ipykernel)",
   "language": "python",
   "name": "python3"
  },
  "language_info": {
   "codemirror_mode": {
    "name": "ipython",
    "version": 3
   },
   "file_extension": ".py",
   "mimetype": "text/x-python",
   "name": "python",
   "nbconvert_exporter": "python",
   "pygments_lexer": "ipython3",
   "version": "3.9.12"
  }
 },
 "nbformat": 4,
 "nbformat_minor": 5
}
