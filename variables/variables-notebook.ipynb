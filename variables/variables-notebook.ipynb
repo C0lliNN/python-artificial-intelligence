{
 "cells": [
  {
   "cell_type": "markdown",
   "id": "5849b829",
   "metadata": {},
   "source": [
    "## Comments"
   ]
  },
  {
   "cell_type": "code",
   "execution_count": 1,
   "id": "08df71b0",
   "metadata": {},
   "outputs": [],
   "source": [
    "# This a comment in Python\n",
    "\n",
    "\"\"\"\n",
    "This is a mult-line\n",
    "comment\n",
    "\"\"\"\n",
    "\n",
    "name = \"Raphael\""
   ]
  },
  {
   "cell_type": "markdown",
   "id": "bb9be388",
   "metadata": {},
   "source": [
    "## Variable Declarations"
   ]
  },
  {
   "cell_type": "code",
   "execution_count": 2,
   "id": "8c65ddfc",
   "metadata": {},
   "outputs": [
    {
     "name": "stdout",
     "output_type": "stream",
     "text": [
      "Raphael\n"
     ]
    }
   ],
   "source": [
    "print(name)"
   ]
  },
  {
   "cell_type": "code",
   "execution_count": 3,
   "id": "e5be8373",
   "metadata": {},
   "outputs": [],
   "source": [
    "a = 'some string'\n",
    "b = 10\n",
    "c = 65.00"
   ]
  },
  {
   "cell_type": "code",
   "execution_count": 4,
   "id": "8b4dbfdc",
   "metadata": {},
   "outputs": [
    {
     "name": "stdout",
     "output_type": "stream",
     "text": [
      "some string\n",
      "10\n",
      "65.0\n"
     ]
    }
   ],
   "source": [
    "print(a)\n",
    "print(b)\n",
    "print(c)"
   ]
  },
  {
   "cell_type": "code",
   "execution_count": 5,
   "id": "6715fc58",
   "metadata": {},
   "outputs": [],
   "source": [
    "array = ['Raphael', 'Collin', 'Teles']"
   ]
  },
  {
   "cell_type": "code",
   "execution_count": 6,
   "id": "536b7d48",
   "metadata": {},
   "outputs": [
    {
     "name": "stdout",
     "output_type": "stream",
     "text": [
      "['Raphael', 'Collin', 'Teles']\n"
     ]
    }
   ],
   "source": [
    "print(array)"
   ]
  },
  {
   "cell_type": "code",
   "execution_count": null,
   "id": "f3e4899a",
   "metadata": {},
   "outputs": [],
   "source": []
  }
 ],
 "metadata": {
  "kernelspec": {
   "display_name": "Python 3 (ipykernel)",
   "language": "python",
   "name": "python3"
  },
  "language_info": {
   "codemirror_mode": {
    "name": "ipython",
    "version": 3
   },
   "file_extension": ".py",
   "mimetype": "text/x-python",
   "name": "python",
   "nbconvert_exporter": "python",
   "pygments_lexer": "ipython3",
   "version": "3.9.12"
  }
 },
 "nbformat": 4,
 "nbformat_minor": 5
}
