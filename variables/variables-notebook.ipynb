{
 "cells": [
  {
   "cell_type": "markdown",
   "id": "5849b829",
   "metadata": {},
   "source": [
    "## Comments"
   ]
  },
  {
   "cell_type": "code",
   "execution_count": null,
   "id": "08df71b0",
   "metadata": {},
   "outputs": [],
   "source": [
    "# This a comment in Python\n",
    "\n",
    "\"\"\"\n",
    "This is a mult-line\n",
    "comment\n",
    "\"\"\"\n",
    "\n",
    "name = \"Raphael\""
   ]
  },
  {
   "cell_type": "markdown",
   "id": "bb9be388",
   "metadata": {},
   "source": [
    "## Variable Declarations"
   ]
  },
  {
   "cell_type": "code",
   "execution_count": null,
   "id": "8c65ddfc",
   "metadata": {},
   "outputs": [],
   "source": [
    "print(name)"
   ]
  },
  {
   "cell_type": "code",
   "execution_count": null,
   "id": "e5be8373",
   "metadata": {},
   "outputs": [],
   "source": [
    "a = 'some string'\n",
    "b = 10\n",
    "c = 65.00"
   ]
  },
  {
   "cell_type": "code",
   "execution_count": null,
   "id": "8b4dbfdc",
   "metadata": {},
   "outputs": [],
   "source": [
    "print(a)\n",
    "print(b)\n",
    "print(c)"
   ]
  },
  {
   "cell_type": "code",
   "execution_count": null,
   "id": "6715fc58",
   "metadata": {},
   "outputs": [],
   "source": [
    "array = ['Raphael', 'Collin', 'Teles']"
   ]
  },
  {
   "cell_type": "code",
   "execution_count": null,
   "id": "536b7d48",
   "metadata": {},
   "outputs": [],
   "source": [
    "print(array)"
   ]
  },
  {
   "cell_type": "markdown",
   "id": "32983b9b",
   "metadata": {},
   "source": [
    "## Multiple Declaration"
   ]
  },
  {
   "cell_type": "code",
   "execution_count": 1,
   "id": "941e61d4",
   "metadata": {},
   "outputs": [],
   "source": [
    "name1, name2, name3 = 'Raphael', 'Collin', 'Teles'"
   ]
  },
  {
   "cell_type": "code",
   "execution_count": 2,
   "id": "cb87df61",
   "metadata": {},
   "outputs": [
    {
     "data": {
      "text/plain": [
       "'Raphael'"
      ]
     },
     "execution_count": 2,
     "metadata": {},
     "output_type": "execute_result"
    }
   ],
   "source": [
    "name1"
   ]
  },
  {
   "cell_type": "code",
   "execution_count": 3,
   "id": "66d0530a",
   "metadata": {},
   "outputs": [
    {
     "data": {
      "text/plain": [
       "'Collin'"
      ]
     },
     "execution_count": 3,
     "metadata": {},
     "output_type": "execute_result"
    }
   ],
   "source": [
    "name2"
   ]
  },
  {
   "cell_type": "code",
   "execution_count": 4,
   "id": "53d7d95d",
   "metadata": {},
   "outputs": [
    {
     "data": {
      "text/plain": [
       "'Teles'"
      ]
     },
     "execution_count": 4,
     "metadata": {},
     "output_type": "execute_result"
    }
   ],
   "source": [
    "name3"
   ]
  },
  {
   "cell_type": "code",
   "execution_count": 5,
   "id": "ed756f44",
   "metadata": {},
   "outputs": [],
   "source": [
    "fruit1 = fruit2 = fruit3 = 'Orange'"
   ]
  },
  {
   "cell_type": "code",
   "execution_count": 6,
   "id": "d763b515",
   "metadata": {},
   "outputs": [
    {
     "data": {
      "text/plain": [
       "'Orange'"
      ]
     },
     "execution_count": 6,
     "metadata": {},
     "output_type": "execute_result"
    }
   ],
   "source": [
    "fruit1"
   ]
  },
  {
   "cell_type": "code",
   "execution_count": 7,
   "id": "4bdf0de5",
   "metadata": {},
   "outputs": [
    {
     "data": {
      "text/plain": [
       "'Orange'"
      ]
     },
     "execution_count": 7,
     "metadata": {},
     "output_type": "execute_result"
    }
   ],
   "source": [
    "fruit2"
   ]
  },
  {
   "cell_type": "markdown",
   "id": "be088d5c",
   "metadata": {},
   "source": [
    "## Concatenation"
   ]
  },
  {
   "cell_type": "code",
   "execution_count": 8,
   "id": "28e8846f",
   "metadata": {},
   "outputs": [
    {
     "data": {
      "text/plain": [
       "'Raphael Collin'"
      ]
     },
     "execution_count": 8,
     "metadata": {},
     "output_type": "execute_result"
    }
   ],
   "source": [
    "'Raphael' + ' ' + 'Collin'"
   ]
  },
  {
   "cell_type": "code",
   "execution_count": null,
   "id": "49d247d0",
   "metadata": {},
   "outputs": [],
   "source": []
  }
 ],
 "metadata": {
  "kernelspec": {
   "display_name": "Python 3 (ipykernel)",
   "language": "python",
   "name": "python3"
  },
  "language_info": {
   "codemirror_mode": {
    "name": "ipython",
    "version": 3
   },
   "file_extension": ".py",
   "mimetype": "text/x-python",
   "name": "python",
   "nbconvert_exporter": "python",
   "pygments_lexer": "ipython3",
   "version": "3.9.12"
  }
 },
 "nbformat": 4,
 "nbformat_minor": 5
}
